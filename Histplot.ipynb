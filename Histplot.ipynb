{
 "cells": [
  {
   "cell_type": "code",
   "execution_count": 1,
   "metadata": {
    "collapsed": true
   },
   "outputs": [],
   "source": [
    "import numpy as np \n",
    "import pandas as pd\n",
    "import matplotlib as mpl\n",
    "import matplotlib.pyplot as plt\n",
    "%matplotlib inline"
   ]
  },
  {
   "cell_type": "code",
   "execution_count": 2,
   "metadata": {},
   "outputs": [
    {
     "name": "stdout",
     "output_type": "stream",
     "text": [
      "[-49.6935, -90.4726, -31.595, -16.1738, -9.77876, -6.33113, -4.62249, -6.49442, -3.80783, -3.12427, -2.85535, -2.73241, -2.70203, -1.72252, -1.72531, -1.66431, -1.5644, -0.95559, -3.13071, -8.78584, -25.1953, -2.75995, -5.86418, -0.643531, -2.92202, -60.4977, -20.7934, -11.5782, -18.8851, -5.43893, -3.19538, -2.46764, -2.16472, -2.04842, -2.00991, -3.15726, -2.3115, -10.8371, -4.03373, -2.5013, -2.14353, -2.02351, -1.07919, -2.50035, -2.31658, -2.61539, -2.39301, -2.27865, -1.07399, -2.68632, -2.75573, -5.27346, -2.61422, -3.21703, -7.92929, -1.94641, -1.07546, -7.80744, -13.5024, -3.0607, -3.14687, -11.2515, -2.42998, -3.30127, -1.04082, -3.9073, -1.8325, -1.88264, -1.99104, -1.87475, -2.03292, -3.80591, -1.00199, -44.183, -2.84512, -2.62037, -3.18275, -2.77646, -2.69566, -2.82611, -2.17923, -3.05394, -2.30798, -3.08338, -2.46549, -3.06334, -2.52583, -3.01283, -2.96203, -2.06428, -2.91122, -2.82923, -2.76893, -2.76317, -1.99656, -2.78522, -1.95539, -2.84186, -1.98875, -2.9705, -2.04491, -3.10924, -2.19391, -3.12919, -2.31133, -3.16262, -2.35859, -3.14783, -2.43609, -3.11958, -2.41429, -3.09275, -2.38967, -3.03964, -2.29179, -2.99779, -2.19367, -2.9968, -2.12596, -3.0194, -2.0657, -3.11998, -2.01049, -3.43725, -1.92397, -3.26145, -1.86144, -1.99008, -2.19319, -2.31647, -2.40164, -2.52291, -2.46668, -3.22107, -2.41714, -3.16651, -2.41597, -3.01648, -2.37861, -2.84864, -2.25433, -2.76469, -2.16151, -2.61813, -2.48125, -3.5439, -2.39582, -3.16753, -2.28587, -2.9454, -2.25506, -2.89381, -2.11399, -2.77271, -2.18597, -2.59871, -3.7996, -2.49631, -3.0664, -2.31523, -2.81325, -2.24995, -2.57063, -2.15504, -6.89151, -3.57982, -2.49052, -2.86953, -2.39714, -4.773, -2.64456, -2.83333, -2.58241, -2.93942, -2.66571, -2.41394, -3.02246, -2.74596, -211.058, -3.06039, -2.82564, -6.40702, -6.6114, -2.99269, -2.87797, -4.90876, -3.28708, -2.94512, -4.50662, -4.75611, -3.03229, -2.912, -11.1648, -3.22725, -2.90549, -1.36219, -17.4279, -2.94707, -2.87387, -2.14053, -3.07414, -2.8699, -2.23095, -2.23377, -10.6103, -2.87476, -2.85308, -48.9807, -24.1755, -2.94904, -2.84662, -7.65893, -3.16402, -2.82126, -2.8305, -4.89117, -5.12701, -2.84845, -2.76924, -4.68207, -3.06399, -2.73457, -6.19254, -2.79138, -2.661, -15.1531, -3.76094, -2.64553, -2.62376, -35.0667, -2.87055, -2.58391, -1.19369, -2.68645, -2.54512, -0.776028, -2.57738, -2.53073, -0.90272, -3.00907, -2.5192, -6.26849, -2.68751, -2.4683, -1107.03, -2.56011, -2.43781, -13.1562, -2.46748, -2.40126, -4.03857, -2.39546, -2.38507, -3.11767, -2.33584, -2.79171, -2.28664, -2.67696, -2.24959, -6.76935, -2.61741, -2.22092, -2.6076, -2.21283, -2.57161, -2.20753, -2.50988, -2.19676, -15.0793, -2.54898, -2.18332, -2.6106, -2.1336, -4.44259, -3.16003, -2.07618, -3.78029, -3.84718, -2.82126, -2.35324, -6.43635, -4.02749, -2.7938, -2.74869, -1.93454, -1.2913, -2.68789, -2.99715, -2.66277, -2.72777, -1.16962, -2.53402, -2.65131, -2.64678, -0.593279, -3.29379, -2.54659, -2.64163, -9.31249, -3.08511, -2.48043, -2.58505, -49.4607, -3.64137, -2.42152, -2.49784, -4.95622, -4.9893, -2.42266, -2.41139, -4.12291, -4.23792, -2.52684, -2.36686, -5.85945, -2.63062, -2.34312, -2.47767, -17.8697, -2.87589, -2.31303, -2.41773, -1.71237, -1.38388, -2.27894, -2.35845, -1.62133, -1.88757, -2.25999, -2.28442, -6.96103, -2.36833, -2.24841, -1.82971, -7.13071, -2.89218, -2.18546, -2.33358, -1.73944, -4.81711, -2.2257, -2.16302, -25.6134, -4.1162, -3.36799, -2.06039, -2.19174, -8.17312, -4.23259, -2.44762, -1.98843, -1.48408, -18.6637, -2.15388, -1.98687, -5.91935, -2.03466, -2.05858, -0.771492, -3.02182, -1.97535, -2.16293, -7.60184, -2.11093, -1.96037, -5.20984, -1.9499, -1.94542, -12.3036, -1.80232, -1.8699, -2.34, -1.70339, -1.75324, -1.1266, -1.71153, -1.68157, -1.27084, -1.84375, -1.79963, -1.85908, -2.49753, -1.90785, -2.06972, -5.68976, -9.54805, -1.97503, -2.0156, -3.5053, -2.25931, -1.92859, -3.16849, -1.93726, -1.92901, -3.09578, -1.74969, -1.83441, -1.63889, -1.53448, -2.22, -1.27391, -1.30646, -1.38279, -1.6346, -0.926629, -1.5402, -1.71996, -1.28897, -1.58176, -1.70051, -1.24143, -1.69158, -1.33665, -1.59683, -0.493779, -1.39256, -1.79433, -2.05179, -1.982, -1.99348, -8.40632, -2.85586, -2.92158, -2.19121, -2.24122, -2.42054, -2.56833, -2.24255, -2.17886, -2.45878, -2.96576, -2.2029, -1.95677, -2.33066, -2.78539, -1.82697, -1.85651, -3.9847, -1.61636, -1.67606, -1.63118, -1.41874, -1.16929, -1.15169, -1.90145, -0.963465, -1.48721, -1.7614, -1.17616, -1.27441, -1.11404, -1.74411, -1.22449, -1.5578, -1.33122, -1.44687, -0.95748, -1.57333, -1.48286, -5.15201, -49.4162, -1.78961, -1.87186, -13.593, -2.44857, -1.90026, -1.99757, -2.49462, -1.9033, -1.77362, -2.26578, -3.01846, -1.59302, -1.76593, -11.1722, -1.43313, -1.73442, -14.088, -1.34497, -1.65624, -1.2929, -1.52137, -1.74528, -1.3654, -1.54446, -1.35501, -2.08115, -25.6387, -2.53983, -1.4738, -2.09415, -2.68757, -1.67662, -1.57012, -5.40139, -1.42819, -1.54546, -0.528069, -1.35986, -1.45428, -6.1683, -1.6762, -1.40024, -3.12523, -1.74765, -1.46202, -1.60794, -1.46256, -1.72501, -1.34709, -3.37966, -1.25708, -2.08094, -2.6108, -1.30279, -2.01358, -2.47287, -1.36434, -2.06665, -6.43521, -1.34222, -2.09888, -0.85258, -1.25406, -2.07966, -0.686962, -1.19137, -1.98138, -613.041, -1.19808, -1.89298, -4.85214, -1.19021, -1.82694, -8.52043, -1.14445, -1.74435, -1.09402, -1.61961, -1.26659, -1.43975, -3.45657, -1.2883, -2.26871, -3.17191, -1.22873, -2.10572, -2.58225, -1.19018, -2.03532, -8.32159, -1.00837, -1.88564, -0.77981, -1.62212, -3.52975, -1.29152, -19.1909, -1.02317, -2.05161, -0.908903, -1.75408, -1.28804, -1.44811, -1.82276, -1.10429, -2.24527, -1.99991, -0.941337, -1.8596, -40.9038, -1.38088, -1.89827, -2.43863, -1.56021, -2.29834, -1.06558, -2.29679, -2.04199, -3.24671, -6.60046, -7.58017, -5.87986, -3.39938, -2.25755, -2.13003, -3.25322, -10.7954, -84.6297, -11.4972, -5.18532, -1.70891, -1.70623, -10.5513, -3.37342, -10.1304, -15.8699, -6.32007, -3.8309, -2.61797, -2.45821, -7.27752, -10.4538, -4.00169, -2.57408, -1.95186, -1.70485, -19.0753, -3.08666, -1.90943, -1.96598, -1.96805, -2.07627, -2.18357, -2.25671, -10.8883, -25.6845, -6.0253, -6.45029, -18.0192, -4.81648, -2.81749, -2.04502, -1.94067, -1.86031, -1.92951, -1.93941, -1.93833, -2.03761, -2.11809, -2.24336, -8.15001, -2.36126, -1.48545, -1.42613, -2.32968, -2.05695, -1.63362, -1.77948, -1.9316, -2.10501, -2.16893, -4.15575, -38.1027, -7.99213, -4.46577, -1.73267, -1.65868, -1.79238, -1.94802, -2.13299, -4.88986, -2.92919, -2.44615, -5.34606, -5.28636, -2.37171, -1.58879, -1.75762, -1.97964, -27.3677, -5.68191, -26.3577, -8.89804, -106.138, -1.90766, -1.64032, -1.84217, -2.05703, -1.36936, -1.18914, -0.789716, -1.06033, -4.75952, -1.63907, -1.70786, -1.87351, -2.03079, -2.2371, -0.351189, -0.964531, -3.00596, -1.26337, -1.74025, -1.7136, -1.67539, -1.85043, -2.0032, -2.2091, -0.534868, -0.694769, -0.916216, -1.18792, -1.6464, -1.84511, -2.0563, -2.20643, -4.39794, -3.10517, -3.64607, -1.50868, -1.58452, -1.76681, -2.04912, -0.837764, -3.11686, -1.98589, -1.7702, -1.63667, -1.70907, -1.97432, -2.29704, -1.4767, -8.49519, -4.25194, -1.92707, -1.52514, -1.83235, -2.19962, -1.40044, -1.07864, -0.727643, -3.63921, -9.54306, -5.50798, -2.4596, -1.57981, -1.69392, -1.93902, -2.21503, -3.32123, -3.11745, -2.81235, -2.48267, -2.13258, -1.83533, -1.78571, -3.40448, -3.34273, -3.4475, -4.02758, -8.88833, -1.76854, -1.71531, -1.98918, -2.27409, -3.64509, -2.88077, -2.3343, -1.99729, -1.94847, -2.10907, -2.27843, -2.47196, -0.0678153, -0.0626103, -0.077585, -0.0692135, -0.069897, -0.0593297, -0.0643603, -0.0602814, -0.0768535, -0.0587405, -0.0621748, -0.0678877, -0.0595166, -0.0568079, -0.0742033, -0.073139, -0.0585965, -0.531633, -0.903353, -1.19277, -0.0685804, -0.14327, -0.13931, -0.0579461, -0.0646994, -0.065992, -0.0615453, -0.059877, -0.0562224, -0.0697826, -0.0742059, -0.0702189, -0.0602033, -0.674086, -0.929314, -1.56487, -1.99284, -0.0584145, -0.22152, -0.469334, -0.652874, -0.805446, -1.06103, -1.03879, -1.00855, -0.0706189, -0.0970819, -0.0963376, -0.064713, -0.0590741, -0.0638921, -1.36079, -1.31485]\n"
     ]
    }
   ],
   "source": [
    "\n",
    "with open('hist.txt', 'r') as f:\n",
    "    data = f.readlines()  #txt中所有字符串读入data\n",
    "    merge_list = []\n",
    "    for line in data:\n",
    "        shock_vel = line.split()        #将单个数据分隔开存好\n",
    "        numbers_float = map(float, shock_vel) #转化为浮点数 得到是个迭代器\n",
    "        numbers_list = list(numbers_float) #转化为list输出\n",
    "        #print(numbers_list)\n",
    "       #print(type(numbers_list))\n",
    "        merge_list = merge_list + numbers_list\n",
    "  #  merge_list = []\n",
    "  #  for sublist in numbers_float：\n",
    "   #     merge_list + = sublist\n",
    "print(merge_list)\n"
   ]
  },
  {
   "cell_type": "code",
   "execution_count": 3,
   "metadata": {
    "collapsed": true
   },
   "outputs": [],
   "source": [
    "to_array = np.array(merge_list)"
   ]
  },
  {
   "cell_type": "code",
   "execution_count": 4,
   "metadata": {},
   "outputs": [
    {
     "name": "stdout",
     "output_type": "stream",
     "text": [
      "<class 'numpy.ndarray'>\n"
     ]
    }
   ],
   "source": [
    "print(type(to_array))"
   ]
  },
  {
   "cell_type": "code",
   "execution_count": 13,
   "metadata": {},
   "outputs": [],
   "source": [
    "to_array_selected = to_array[np.where(to_array > -10.0)]"
   ]
  },
  {
   "cell_type": "code",
   "execution_count": 14,
   "metadata": {},
   "outputs": [
    {
     "name": "stdout",
     "output_type": "stream",
     "text": [
      "[-9.77876   -6.33113   -4.62249   -6.49442   -3.80783   -3.12427   -2.85535\n",
      " -2.73241   -2.70203   -1.72252   -1.72531   -1.66431   -1.5644    -0.95559\n",
      " -3.13071   -8.78584   -2.75995   -5.86418   -0.643531  -2.92202   -5.43893\n",
      " -3.19538   -2.46764   -2.16472   -2.04842   -2.00991   -3.15726   -2.3115\n",
      " -4.03373   -2.5013    -2.14353   -2.02351   -1.07919   -2.50035   -2.31658\n",
      " -2.61539   -2.39301   -2.27865   -1.07399   -2.68632   -2.75573   -5.27346\n",
      " -2.61422   -3.21703   -7.92929   -1.94641   -1.07546   -7.80744   -3.0607\n",
      " -3.14687   -2.42998   -3.30127   -1.04082   -3.9073    -1.8325    -1.88264\n",
      " -1.99104   -1.87475   -2.03292   -3.80591   -1.00199   -2.84512   -2.62037\n",
      " -3.18275   -2.77646   -2.69566   -2.82611   -2.17923   -3.05394   -2.30798\n",
      " -3.08338   -2.46549   -3.06334   -2.52583   -3.01283   -2.96203   -2.06428\n",
      " -2.91122   -2.82923   -2.76893   -2.76317   -1.99656   -2.78522   -1.95539\n",
      " -2.84186   -1.98875   -2.9705    -2.04491   -3.10924   -2.19391   -3.12919\n",
      " -2.31133   -3.16262   -2.35859   -3.14783   -2.43609   -3.11958   -2.41429\n",
      " -3.09275   -2.38967   -3.03964   -2.29179   -2.99779   -2.19367   -2.9968\n",
      " -2.12596   -3.0194    -2.0657    -3.11998   -2.01049   -3.43725   -1.92397\n",
      " -3.26145   -1.86144   -1.99008   -2.19319   -2.31647   -2.40164   -2.52291\n",
      " -2.46668   -3.22107   -2.41714   -3.16651   -2.41597   -3.01648   -2.37861\n",
      " -2.84864   -2.25433   -2.76469   -2.16151   -2.61813   -2.48125   -3.5439\n",
      " -2.39582   -3.16753   -2.28587   -2.9454    -2.25506   -2.89381   -2.11399\n",
      " -2.77271   -2.18597   -2.59871   -3.7996    -2.49631   -3.0664    -2.31523\n",
      " -2.81325   -2.24995   -2.57063   -2.15504   -6.89151   -3.57982   -2.49052\n",
      " -2.86953   -2.39714   -4.773     -2.64456   -2.83333   -2.58241   -2.93942\n",
      " -2.66571   -2.41394   -3.02246   -2.74596   -3.06039   -2.82564   -6.40702\n",
      " -6.6114    -2.99269   -2.87797   -4.90876   -3.28708   -2.94512   -4.50662\n",
      " -4.75611   -3.03229   -2.912     -3.22725   -2.90549   -1.36219   -2.94707\n",
      " -2.87387   -2.14053   -3.07414   -2.8699    -2.23095   -2.23377   -2.87476\n",
      " -2.85308   -2.94904   -2.84662   -7.65893   -3.16402   -2.82126   -2.8305\n",
      " -4.89117   -5.12701   -2.84845   -2.76924   -4.68207   -3.06399   -2.73457\n",
      " -6.19254   -2.79138   -2.661     -3.76094   -2.64553   -2.62376   -2.87055\n",
      " -2.58391   -1.19369   -2.68645   -2.54512   -0.776028  -2.57738   -2.53073\n",
      " -0.90272   -3.00907   -2.5192    -6.26849   -2.68751   -2.4683    -2.56011\n",
      " -2.43781   -2.46748   -2.40126   -4.03857   -2.39546   -2.38507   -3.11767\n",
      " -2.33584   -2.79171   -2.28664   -2.67696   -2.24959   -6.76935   -2.61741\n",
      " -2.22092   -2.6076    -2.21283   -2.57161   -2.20753   -2.50988   -2.19676\n",
      " -2.54898   -2.18332   -2.6106    -2.1336    -4.44259   -3.16003   -2.07618\n",
      " -3.78029   -3.84718   -2.82126   -2.35324   -6.43635   -4.02749   -2.7938\n",
      " -2.74869   -1.93454   -1.2913    -2.68789   -2.99715   -2.66277   -2.72777\n",
      " -1.16962   -2.53402   -2.65131   -2.64678   -0.593279  -3.29379   -2.54659\n",
      " -2.64163   -9.31249   -3.08511   -2.48043   -2.58505   -3.64137   -2.42152\n",
      " -2.49784   -4.95622   -4.9893    -2.42266   -2.41139   -4.12291   -4.23792\n",
      " -2.52684   -2.36686   -5.85945   -2.63062   -2.34312   -2.47767   -2.87589\n",
      " -2.31303   -2.41773   -1.71237   -1.38388   -2.27894   -2.35845   -1.62133\n",
      " -1.88757   -2.25999   -2.28442   -6.96103   -2.36833   -2.24841   -1.82971\n",
      " -7.13071   -2.89218   -2.18546   -2.33358   -1.73944   -4.81711   -2.2257\n",
      " -2.16302   -4.1162    -3.36799   -2.06039   -2.19174   -8.17312   -4.23259\n",
      " -2.44762   -1.98843   -1.48408   -2.15388   -1.98687   -5.91935   -2.03466\n",
      " -2.05858   -0.771492  -3.02182   -1.97535   -2.16293   -7.60184   -2.11093\n",
      " -1.96037   -5.20984   -1.9499    -1.94542   -1.80232   -1.8699    -2.34\n",
      " -1.70339   -1.75324   -1.1266    -1.71153   -1.68157   -1.27084   -1.84375\n",
      " -1.79963   -1.85908   -2.49753   -1.90785   -2.06972   -5.68976   -9.54805\n",
      " -1.97503   -2.0156    -3.5053    -2.25931   -1.92859   -3.16849   -1.93726\n",
      " -1.92901   -3.09578   -1.74969   -1.83441   -1.63889   -1.53448   -2.22\n",
      " -1.27391   -1.30646   -1.38279   -1.6346    -0.926629  -1.5402    -1.71996\n",
      " -1.28897   -1.58176   -1.70051   -1.24143   -1.69158   -1.33665   -1.59683\n",
      " -0.493779  -1.39256   -1.79433   -2.05179   -1.982     -1.99348   -8.40632\n",
      " -2.85586   -2.92158   -2.19121   -2.24122   -2.42054   -2.56833   -2.24255\n",
      " -2.17886   -2.45878   -2.96576   -2.2029    -1.95677   -2.33066   -2.78539\n",
      " -1.82697   -1.85651   -3.9847    -1.61636   -1.67606   -1.63118   -1.41874\n",
      " -1.16929   -1.15169   -1.90145   -0.963465  -1.48721   -1.7614    -1.17616\n",
      " -1.27441   -1.11404   -1.74411   -1.22449   -1.5578    -1.33122   -1.44687\n",
      " -0.95748   -1.57333   -1.48286   -5.15201   -1.78961   -1.87186   -2.44857\n",
      " -1.90026   -1.99757   -2.49462   -1.9033    -1.77362   -2.26578   -3.01846\n",
      " -1.59302   -1.76593   -1.43313   -1.73442   -1.34497   -1.65624   -1.2929\n",
      " -1.52137   -1.74528   -1.3654    -1.54446   -1.35501   -2.08115   -2.53983\n",
      " -1.4738    -2.09415   -2.68757   -1.67662   -1.57012   -5.40139   -1.42819\n",
      " -1.54546   -0.528069  -1.35986   -1.45428   -6.1683    -1.6762    -1.40024\n",
      " -3.12523   -1.74765   -1.46202   -1.60794   -1.46256   -1.72501   -1.34709\n",
      " -3.37966   -1.25708   -2.08094   -2.6108    -1.30279   -2.01358   -2.47287\n",
      " -1.36434   -2.06665   -6.43521   -1.34222   -2.09888   -0.85258   -1.25406\n",
      " -2.07966   -0.686962  -1.19137   -1.98138   -1.19808   -1.89298   -4.85214\n",
      " -1.19021   -1.82694   -8.52043   -1.14445   -1.74435   -1.09402   -1.61961\n",
      " -1.26659   -1.43975   -3.45657   -1.2883    -2.26871   -3.17191   -1.22873\n",
      " -2.10572   -2.58225   -1.19018   -2.03532   -8.32159   -1.00837   -1.88564\n",
      " -0.77981   -1.62212   -3.52975   -1.29152   -1.02317   -2.05161   -0.908903\n",
      " -1.75408   -1.28804   -1.44811   -1.82276   -1.10429   -2.24527   -1.99991\n",
      " -0.941337  -1.8596    -1.38088   -1.89827   -2.43863   -1.56021   -2.29834\n",
      " -1.06558   -2.29679   -2.04199   -3.24671   -6.60046   -7.58017   -5.87986\n",
      " -3.39938   -2.25755   -2.13003   -3.25322   -5.18532   -1.70891   -1.70623\n",
      " -3.37342   -6.32007   -3.8309    -2.61797   -2.45821   -7.27752   -4.00169\n",
      " -2.57408   -1.95186   -1.70485   -3.08666   -1.90943   -1.96598   -1.96805\n",
      " -2.07627   -2.18357   -2.25671   -6.0253    -6.45029   -4.81648   -2.81749\n",
      " -2.04502   -1.94067   -1.86031   -1.92951   -1.93941   -1.93833   -2.03761\n",
      " -2.11809   -2.24336   -8.15001   -2.36126   -1.48545   -1.42613   -2.32968\n",
      " -2.05695   -1.63362   -1.77948   -1.9316    -2.10501   -2.16893   -4.15575\n",
      " -7.99213   -4.46577   -1.73267   -1.65868   -1.79238   -1.94802   -2.13299\n",
      " -4.88986   -2.92919   -2.44615   -5.34606   -5.28636   -2.37171   -1.58879\n",
      " -1.75762   -1.97964   -5.68191   -8.89804   -1.90766   -1.64032   -1.84217\n",
      " -2.05703   -1.36936   -1.18914   -0.789716  -1.06033   -4.75952   -1.63907\n",
      " -1.70786   -1.87351   -2.03079   -2.2371    -0.351189  -0.964531  -3.00596\n",
      " -1.26337   -1.74025   -1.7136    -1.67539   -1.85043   -2.0032    -2.2091\n",
      " -0.534868  -0.694769  -0.916216  -1.18792   -1.6464    -1.84511   -2.0563\n",
      " -2.20643   -4.39794   -3.10517   -3.64607   -1.50868   -1.58452   -1.76681\n",
      " -2.04912   -0.837764  -3.11686   -1.98589   -1.7702    -1.63667   -1.70907\n",
      " -1.97432   -2.29704   -1.4767    -8.49519   -4.25194   -1.92707   -1.52514\n",
      " -1.83235   -2.19962   -1.40044   -1.07864   -0.727643  -3.63921   -9.54306\n",
      " -5.50798   -2.4596    -1.57981   -1.69392   -1.93902   -2.21503   -3.32123\n",
      " -3.11745   -2.81235   -2.48267   -2.13258   -1.83533   -1.78571   -3.40448\n",
      " -3.34273   -3.4475    -4.02758   -8.88833   -1.76854   -1.71531   -1.98918\n",
      " -2.27409   -3.64509   -2.88077   -2.3343    -1.99729   -1.94847   -2.10907\n",
      " -2.27843   -2.47196   -0.0678153 -0.0626103 -0.077585  -0.0692135\n",
      " -0.069897  -0.0593297 -0.0643603 -0.0602814 -0.0768535 -0.0587405\n",
      " -0.0621748 -0.0678877 -0.0595166 -0.0568079 -0.0742033 -0.073139\n",
      " -0.0585965 -0.531633  -0.903353  -1.19277   -0.0685804 -0.14327   -0.13931\n",
      " -0.0579461 -0.0646994 -0.065992  -0.0615453 -0.059877  -0.0562224\n",
      " -0.0697826 -0.0742059 -0.0702189 -0.0602033 -0.674086  -0.929314  -1.56487\n",
      " -1.99284   -0.0584145 -0.22152   -0.469334  -0.652874  -0.805446  -1.06103\n",
      " -1.03879   -1.00855   -0.0706189 -0.0970819 -0.0963376 -0.064713\n",
      " -0.0590741 -0.0638921 -1.36079   -1.31485  ]\n"
     ]
    }
   ],
   "source": [
    "print(to_array_selected) "
   ]
  },
  {
   "cell_type": "code",
   "execution_count": 26,
   "metadata": {},
   "outputs": [
    {
     "data": {
      "image/png": "[encoded data removed]",
      "text/plain": [
       "<matplotlib.figure.Figure at 0xc75c6a0>"
      ]
     },
     "metadata": {},
     "output_type": "display_data"
    }
   ],
   "source": [
    "\"\"\"\n",
    "绘制直方图\n",
    "data:必选参数，绘图数据\n",
    "bins:直方图的长条形数目，可选项，默认为10\n",
    "normed:是否将得到的直方图向量归一化，可选项，默认为0，代表不归一化，显示频数。normed=1，表示归一化，显示频率。\n",
    "facecolor:长条形的颜色\n",
    "edgecolor:长条形边框的颜色\n",
    "alpha:透明度\n",
    "\"\"\"\n",
    "\n",
    "plt.hist(to_array_selected, bins=40, normed=0, facecolor=\"black\", edgecolor=\"black\", alpha=0.7)\n",
    "plt.xlabel(\"Shock velocity\")\n",
    "plt.ylabel(\"Counts\")\n",
    "#plt.legend(\"Hist\",loc=\"upper left\")\n",
    "plt.title(\"Histogram of the detected reverse shock velocity distribution\")\n",
    "plt.savefig('hist_fig.pdf',dpi=400,bbox_inches='tight') #this should before plt.show()\n",
    "plt.show()\n"
   ]
  },
  {
   "cell_type": "code",
   "execution_count": null,
   "metadata": {
    "collapsed": true
   },
   "outputs": [],
   "source": []
  },
  {
   "cell_type": "code",
   "execution_count": null,
   "metadata": {
    "collapsed": true
   },
   "outputs": [],
   "source": []
  }
 ],
 "metadata": {
  "kernelspec": {
   "display_name": "Python 3",
   "language": "python",
   "name": "python3"
  },
  "language_info": {
   "codemirror_mode": {
    "name": "ipython",
    "version": 3
   },
   "file_extension": ".py",
   "mimetype": "text/x-python",
   "name": "python",
   "nbconvert_exporter": "python",
   "pygments_lexer": "ipython3",
   "version": "3.6.2"
  }
 },
 "nbformat": 4,
 "nbformat_minor": 2
}
