{
 "cells": [
  {
   "cell_type": "code",
   "execution_count": 1,
   "metadata": {},
   "outputs": [
    {
     "name": "stdout",
     "output_type": "stream",
     "text": [
      "0.1 = 0.10000000000000001\n",
      "0.2 = 0.20000000000000001\n",
      "0.3 = 0.29999999999999999\n"
     ]
    }
   ],
   "source": [
    "print(\"0.1 = {0:.17f}\".format(0.1))\n",
    "print(\"0.2 = {0:.17f}\".format(0.2))\n",
    "print(\"0.3 = {0:.17f}\".format(0.3))"
   ]
  },
  {
   "cell_type": "code",
   "execution_count": 2,
   "metadata": {},
   "outputs": [],
   "source": [
    "x = range(10)"
   ]
  },
  {
   "cell_type": "code",
   "execution_count": 3,
   "metadata": {},
   "outputs": [
    {
     "name": "stdout",
     "output_type": "stream",
     "text": [
      "range(0, 10)\n"
     ]
    }
   ],
   "source": [
    "print(x)"
   ]
  },
  {
   "cell_type": "code",
   "execution_count": 4,
   "metadata": {},
   "outputs": [
    {
     "name": "stdout",
     "output_type": "stream",
     "text": [
      "<class 'range'>\n"
     ]
    }
   ],
   "source": [
    "print(type(x))"
   ]
  },
  {
   "cell_type": "code",
   "execution_count": 5,
   "metadata": {},
   "outputs": [
    {
     "data": {
      "text/plain": [
       "[0, 1, 2, 3, 4, 5, 6, 7, 8, 9]"
      ]
     },
     "execution_count": 5,
     "metadata": {},
     "output_type": "execute_result"
    }
   ],
   "source": [
    "list(x)"
   ]
  },
  {
   "cell_type": "code",
   "execution_count": 6,
   "metadata": {},
   "outputs": [
    {
     "name": "stdout",
     "output_type": "stream",
     "text": [
      "0 2\n",
      "1 4\n",
      "2 6\n",
      "3 8\n",
      "4 10\n"
     ]
    }
   ],
   "source": [
    "L = [2,4,6,8,10]\n",
    "for i,val in enumerate(L):\n",
    "    print(i,val)\n"
   ]
  },
  {
   "cell_type": "code",
   "execution_count": 7,
   "metadata": {},
   "outputs": [
    {
     "name": "stdout",
     "output_type": "stream",
     "text": [
      "2 3\n",
      "4 6\n",
      "6 9\n",
      "8 12\n",
      "10 15\n"
     ]
    }
   ],
   "source": [
    "R = [3,6,9,12,15]\n",
    "for lval,rval in zip(L,R):\n",
    "    print(lval,rval)\n"
   ]
  },
  {
   "cell_type": "code",
   "execution_count": 8,
   "metadata": {},
   "outputs": [
    {
     "name": "stdout",
     "output_type": "stream",
     "text": [
      "0\n",
      "1\n",
      "4\n",
      "9\n",
      "16\n",
      "25\n",
      "36\n",
      "49\n",
      "64\n",
      "81\n"
     ]
    }
   ],
   "source": [
    "square = lambda x : x ** 2\n",
    "for val in map(square,range(10)):\n",
    "    print(val)\n"
   ]
  },
  {
   "cell_type": "code",
   "execution_count": 9,
   "metadata": {},
   "outputs": [
    {
     "name": "stdout",
     "output_type": "stream",
     "text": [
      "0\n",
      "2\n",
      "4\n",
      "6\n",
      "8\n"
     ]
    }
   ],
   "source": [
    "is_even = lambda x : x % 2 == 0\n",
    "for val in filter(is_even,range(10)):\n",
    "    print(val)\n"
   ]
  },
  {
   "cell_type": "code",
   "execution_count": 10,
   "metadata": {},
   "outputs": [],
   "source": [
    "#函数 *args 的*表示将arg像元组一样展开\n",
    "#函数 **kyargs 的 **表示将kyargs像字典一样展开\n",
    "def catch_all(*args,**kwargs):\n",
    "    print(\"args = \",args)\n",
    "    print(\"kwargs = \",kwargs)\n"
   ]
  },
  {
   "cell_type": "code",
   "execution_count": 11,
   "metadata": {},
   "outputs": [
    {
     "name": "stdout",
     "output_type": "stream",
     "text": [
      "args =  (1, 3, 5)\n",
      "kwargs =  {'a': 7, 'b': 11}\n"
     ]
    }
   ],
   "source": [
    "catch_all(1,3,5,a=7,b=11)"
   ]
  },
  {
   "cell_type": "code",
   "execution_count": 12,
   "metadata": {},
   "outputs": [
    {
     "name": "stdout",
     "output_type": "stream",
     "text": [
      "args =  (1, 5, 9)\n",
      "kwargs =  {'pi': 3.14, 'e': 2.78}\n"
     ]
    }
   ],
   "source": [
    "inputs = (1,5,9)\n",
    "keywords = {'pi':3.14,'e':2.78}\n",
    "catch_all(*inputs,**keywords)"
   ]
  },
  {
   "cell_type": "code",
   "execution_count": 13,
   "metadata": {},
   "outputs": [
    {
     "name": "stdout",
     "output_type": "stream",
     "text": [
      "0 1 2 3 4 5 6 7 8 9\n"
     ]
    }
   ],
   "source": [
    "#*arg **kwargs不仅可以向函数传递元组和字典 *args还可以传递迭代器\n",
    "print(*range(10))"
   ]
  },
  {
   "cell_type": "code",
   "execution_count": 14,
   "metadata": {},
   "outputs": [
    {
     "name": "stdout",
     "output_type": "stream",
     "text": [
      "0 1 8 27 64\n"
     ]
    }
   ],
   "source": [
    "print(*map(lambda x: x**3,range(5)))"
   ]
  },
  {
   "cell_type": "code",
   "execution_count": 15,
   "metadata": {},
   "outputs": [],
   "source": [
    "#iteratos迭代器的本质\n",
    "L1=[1,2,3,4]\n",
    "L2=['a','b','c','d']"
   ]
  },
  {
   "cell_type": "code",
   "execution_count": 16,
   "metadata": {},
   "outputs": [
    {
     "name": "stdout",
     "output_type": "stream",
     "text": [
      "(1, 'a') (2, 'b') (3, 'c') (4, 'd')\n"
     ]
    }
   ],
   "source": [
    "z=zip(L1,L2)\n",
    "print(*z)"
   ]
  },
  {
   "cell_type": "code",
   "execution_count": 17,
   "metadata": {},
   "outputs": [
    {
     "name": "stdout",
     "output_type": "stream",
     "text": [
      "(1, 2, 3, 4) ('a', 'b', 'c', 'd')\n"
     ]
    }
   ],
   "source": [
    "z=zip(L1,L2)\n",
    "new_L1,new_L2 = zip(*z)\n",
    "print(new_L1,new_L2)"
   ]
  },
  {
   "cell_type": "code",
   "execution_count": 18,
   "metadata": {},
   "outputs": [
    {
     "name": "stdout",
     "output_type": "stream",
     "text": [
      "(0, 1, 2) (0, 2, 1) (1, 0, 2) (1, 2, 0) (2, 0, 1) (2, 1, 0)\n"
     ]
    }
   ],
   "source": [
    "#itertools模块里面包含了许多有用的迭代器\n",
    "from itertools import permutations\n",
    "p = permutations(range(3)) #0 1 2的全排列\n",
    "print(*p)"
   ]
  },
  {
   "cell_type": "code",
   "execution_count": 19,
   "metadata": {},
   "outputs": [
    {
     "name": "stdout",
     "output_type": "stream",
     "text": [
      "(0, 1) (0, 2) (0, 3) (1, 2) (1, 3) (2, 3)\n"
     ]
    }
   ],
   "source": [
    "from itertools import combinations #组合\n",
    "c = combinations(range(4),2) #0 1 2 3抽取2元素的组合 range(4)为可迭代对象 combination为迭代器\n",
    "print(*c)"
   ]
  },
  {
   "cell_type": "code",
   "execution_count": 20,
   "metadata": {},
   "outputs": [
    {
     "name": "stdout",
     "output_type": "stream",
     "text": [
      "('a', 0) ('a', 1) ('a', 2) ('b', 0) ('b', 1) ('b', 2)\n"
     ]
    }
   ],
   "source": [
    "from itertools import product\n",
    "p = product('ab',range(3)) #两两配对的笛卡尔乘积\n",
    "print(*p)"
   ]
  },
  {
   "cell_type": "code",
   "execution_count": 21,
   "metadata": {},
   "outputs": [
    {
     "data": {
      "text/plain": [
       "[(0, 0), (0, 1), (0, 2), (1, 0), (1, 1), (1, 2)]"
      ]
     },
     "execution_count": 21,
     "metadata": {},
     "output_type": "execute_result"
    }
   ],
   "source": [
    "[(i,j) for i in range(2) for j in range(3)]"
   ]
  },
  {
   "cell_type": "code",
   "execution_count": 22,
   "metadata": {},
   "outputs": [
    {
     "data": {
      "text/plain": [
       "[1, 2, 4, 5, 7, 8]"
      ]
     },
     "execution_count": 22,
     "metadata": {},
     "output_type": "execute_result"
    }
   ],
   "source": [
    "[val for val in range(10) if val % 3 > 0]"
   ]
  },
  {
   "cell_type": "code",
   "execution_count": 23,
   "metadata": {},
   "outputs": [
    {
     "data": {
      "text/plain": [
       "[0, 1, 4, 9, 16]"
      ]
     },
     "execution_count": 23,
     "metadata": {},
     "output_type": "execute_result"
    }
   ],
   "source": [
    "[n**2 for n in range(5)]"
   ]
  },
  {
   "cell_type": "code",
   "execution_count": 24,
   "metadata": {},
   "outputs": [
    {
     "data": {
      "text/plain": [
       "<generator object <genexpr> at 0x000001493D229B10>"
      ]
     },
     "execution_count": 24,
     "metadata": {},
     "output_type": "execute_result"
    }
   ],
   "source": [
    "(n**2 for n in range(5))"
   ]
  },
  {
   "cell_type": "code",
   "execution_count": 25,
   "metadata": {},
   "outputs": [
    {
     "data": {
      "text/plain": [
       "[0, 1, 4, 9, 16]"
      ]
     },
     "execution_count": 25,
     "metadata": {},
     "output_type": "execute_result"
    }
   ],
   "source": [
    "G = (n**2 for n in range(5))\n",
    "list(G)\n",
    "#list 可以反复使用 生成器G却只能一次"
   ]
  },
  {
   "cell_type": "code",
   "execution_count": 26,
   "metadata": {},
   "outputs": [
    {
     "data": {
      "text/plain": [
       "[]"
      ]
     },
     "execution_count": 26,
     "metadata": {},
     "output_type": "execute_result"
    }
   ],
   "source": [
    "list(G)"
   ]
  },
  {
   "cell_type": "code",
   "execution_count": 27,
   "metadata": {},
   "outputs": [
    {
     "name": "stdout",
     "output_type": "stream",
     "text": [
      "0 1 8 27 64 \n",
      " do sth between\n",
      "125 216 343 512 729 "
     ]
    }
   ],
   "source": [
    "#生成器的妙用\n",
    "Ge = (n**3 for n in range(10))\n",
    "for n in Ge:\n",
    "    print(n,end=' ')\n",
    "    if n > 30:break\n",
    "print(\"\\n do sth between\") #部分迭代\n",
    "\n",
    "for n in Ge:\n",
    "    print(n,end=' ')\n",
    "\n"
   ]
  },
  {
   "cell_type": "code",
   "execution_count": 28,
   "metadata": {},
   "outputs": [
    {
     "name": "stdout",
     "output_type": "stream",
     "text": [
      "[0, 1, 4, 9, 16, 25, 36, 49, 64, 81]\n",
      "[0, 1, 4, 9, 16, 25, 36, 49, 64, 81]\n"
     ]
    }
   ],
   "source": [
    "#list的两种等价方式\n",
    "list1 = [n**2 for n in range(10)]\n",
    "list2 = []\n",
    "for n in range(10):\n",
    "    list2.append(n**2)\n",
    "\n",
    "print(list1)\n",
    "print(list2)"
   ]
  },
  {
   "cell_type": "code",
   "execution_count": 29,
   "metadata": {},
   "outputs": [
    {
     "name": "stdout",
     "output_type": "stream",
     "text": [
      "0 1 4 9 16 25 36 49 64 81\n",
      "0 1 4 9 16 25 36 49 64 81\n"
     ]
    }
   ],
   "source": [
    "Generator1 = (n**2 for n in range(10))\n",
    "\n",
    "def gen():\n",
    "    for n in range(10):\n",
    "        yield n**2\n",
    "Generator2 = gen()\n",
    "print(*Generator1)\n",
    "print(*Generator2)"
   ]
  },
  {
   "cell_type": "code",
   "execution_count": 30,
   "metadata": {},
   "outputs": [
    {
     "name": "stdout",
     "output_type": "stream",
     "text": [
      "[2, 3, 4, 5, 6, 7, 8, 9, 10, 11, 12, 13, 14, 15, 16, 17, 18, 19, 20, 21, 22, 23, 24, 25, 26, 27, 28, 29, 30, 31, 32, 33, 34, 35, 36, 37, 38, 39]\n"
     ]
    }
   ],
   "source": [
    "#素数生成器 传统办法VS生成器办法\n",
    "#生成一个包含候选数值的列表\n",
    "List3 = [n for n in range(2,40)]\n",
    "print(List3)"
   ]
  },
  {
   "cell_type": "code",
   "execution_count": 31,
   "metadata": {},
   "outputs": [
    {
     "name": "stdout",
     "output_type": "stream",
     "text": [
      "[2, 3, 5, 7, 9, 11, 13, 15, 17, 19, 21, 23, 25, 27, 29, 31, 33, 35, 37, 39]\n"
     ]
    }
   ],
   "source": [
    "#对于候选数组中的第一个值，移除它的倍数\n",
    "List3 = [n for n in List3 if n == List3[0] or n % List3[0] > 0]\n",
    "print(List3)"
   ]
  },
  {
   "cell_type": "code",
   "execution_count": 32,
   "metadata": {},
   "outputs": [
    {
     "name": "stdout",
     "output_type": "stream",
     "text": [
      "[2, 3, 5, 7, 11, 13, 17, 19, 23, 25, 29, 31, 35, 37]\n"
     ]
    }
   ],
   "source": [
    "#对于候选数组中的第二个值，移除它的倍数\n",
    "List3 = [n for n in List3 if n == List3[1] or n % List3[1] > 0]\n",
    "print(List3)"
   ]
  },
  {
   "cell_type": "code",
   "execution_count": 33,
   "metadata": {},
   "outputs": [
    {
     "name": "stdout",
     "output_type": "stream",
     "text": [
      "[2, 3, 5, 7, 11, 13, 17, 19, 23, 29, 31, 37]\n"
     ]
    }
   ],
   "source": [
    "#对于候选数组中的第三个值，移除它的倍数\n",
    "List3 = [n for n in List3 if n == List3[2] or n % List3[2] > 0]\n",
    "print(List3)"
   ]
  },
  {
   "cell_type": "code",
   "execution_count": 34,
   "metadata": {},
   "outputs": [
    {
     "name": "stdout",
     "output_type": "stream",
     "text": [
      "2 3 5 7 11 13 17 19 23 29 31 37 41 43 47 53 59 61 67 71 73 79 83 89 97\n"
     ]
    }
   ],
   "source": [
    "#如果我们在一个足够大的列表上重复这个过程足够多次，我们就能产生足够多我们需要的素数\n",
    "#我们用生成器办法生成一个素数产生器\n",
    "def gen_primes(N):\n",
    "    \"\"\"generate primes up to N\"\"\"\n",
    "    primes = set() #set is unique list with no same element\n",
    "    for n in range(2,N):\n",
    "        if all(n % p > 0 for p in primes): #all(x) is True if all x > 0\n",
    "            primes.add(n)\n",
    "            yield n\n",
    "print(*gen_primes(100))"
   ]
  },
  {
   "cell_type": "code",
   "execution_count": 35,
   "metadata": {},
   "outputs": [
    {
     "name": "stdout",
     "output_type": "stream",
     "text": [
      "0 1 2 3 4\n"
     ]
    }
   ],
   "source": [
    "#模块和包\n",
    "print(*range(5))"
   ]
  },
  {
   "cell_type": "code",
   "execution_count": 36,
   "metadata": {},
   "outputs": [],
   "source": [
    "sentence = \"amao is a amazing guY\""
   ]
  },
  {
   "cell_type": "code",
   "execution_count": 37,
   "metadata": {},
   "outputs": [
    {
     "data": {
      "text/plain": [
       "'AMAO IS A AMAZING GUY'"
      ]
     },
     "execution_count": 37,
     "metadata": {},
     "output_type": "execute_result"
    }
   ],
   "source": [
    "sentence.upper()"
   ]
  },
  {
   "cell_type": "code",
   "execution_count": 38,
   "metadata": {},
   "outputs": [
    {
     "name": "stdout",
     "output_type": "stream",
     "text": [
      "amao is a amazing guY\n"
     ]
    }
   ],
   "source": [
    "print(sentence)"
   ]
  },
  {
   "cell_type": "code",
   "execution_count": 39,
   "metadata": {},
   "outputs": [
    {
     "data": {
      "text/plain": [
       "'amao is a amazing guy'"
      ]
     },
     "execution_count": 39,
     "metadata": {},
     "output_type": "execute_result"
    }
   ],
   "source": [
    "sentence.lower()"
   ]
  },
  {
   "cell_type": "code",
   "execution_count": 40,
   "metadata": {},
   "outputs": [
    {
     "data": {
      "text/plain": [
       "'Amao Is A Amazing Guy'"
      ]
     },
     "execution_count": 40,
     "metadata": {},
     "output_type": "execute_result"
    }
   ],
   "source": [
    "sentence.title()"
   ]
  },
  {
   "cell_type": "code",
   "execution_count": 41,
   "metadata": {},
   "outputs": [
    {
     "data": {
      "text/plain": [
       "'Amao is a amazing guy'"
      ]
     },
     "execution_count": 41,
     "metadata": {},
     "output_type": "execute_result"
    }
   ],
   "source": [
    "sentence.capitalize()"
   ]
  },
  {
   "cell_type": "code",
   "execution_count": 42,
   "metadata": {},
   "outputs": [
    {
     "data": {
      "text/plain": [
       "'AMAO IS A AMAZING GUy'"
      ]
     },
     "execution_count": 42,
     "metadata": {},
     "output_type": "execute_result"
    }
   ],
   "source": [
    "sentence.swapcase()"
   ]
  },
  {
   "cell_type": "code",
   "execution_count": 43,
   "metadata": {},
   "outputs": [],
   "source": [
    "line='          blank in the left.'"
   ]
  },
  {
   "cell_type": "code",
   "execution_count": 44,
   "metadata": {},
   "outputs": [
    {
     "data": {
      "text/plain": [
       "'blank in the left.'"
      ]
     },
     "execution_count": 44,
     "metadata": {},
     "output_type": "execute_result"
    }
   ],
   "source": [
    "line.strip()"
   ]
  },
  {
   "cell_type": "code",
   "execution_count": 45,
   "metadata": {},
   "outputs": [
    {
     "data": {
      "text/plain": [
       "'          blank in the left.'"
      ]
     },
     "execution_count": 45,
     "metadata": {},
     "output_type": "execute_result"
    }
   ],
   "source": [
    "line.rstrip()"
   ]
  },
  {
   "cell_type": "code",
   "execution_count": 46,
   "metadata": {},
   "outputs": [
    {
     "data": {
      "text/plain": [
       "'blank in the left.'"
      ]
     },
     "execution_count": 46,
     "metadata": {},
     "output_type": "execute_result"
    }
   ],
   "source": [
    "line.lstrip()"
   ]
  },
  {
   "cell_type": "code",
   "execution_count": 47,
   "metadata": {},
   "outputs": [],
   "source": [
    "num = \"000000000000000000000001260000000\""
   ]
  },
  {
   "cell_type": "code",
   "execution_count": 48,
   "metadata": {},
   "outputs": [
    {
     "data": {
      "text/plain": [
       "'126'"
      ]
     },
     "execution_count": 48,
     "metadata": {},
     "output_type": "execute_result"
    }
   ],
   "source": [
    "num.strip('0')"
   ]
  },
  {
   "cell_type": "code",
   "execution_count": 49,
   "metadata": {},
   "outputs": [
    {
     "data": {
      "text/plain": [
       "'00000000000000000000000126'"
      ]
     },
     "execution_count": 49,
     "metadata": {},
     "output_type": "execute_result"
    }
   ],
   "source": [
    "num.rstrip('0')"
   ]
  },
  {
   "cell_type": "code",
   "execution_count": 50,
   "metadata": {},
   "outputs": [
    {
     "data": {
      "text/plain": [
       "'1260000000'"
      ]
     },
     "execution_count": 50,
     "metadata": {},
     "output_type": "execute_result"
    }
   ],
   "source": [
    "num.lstrip('0')"
   ]
  },
  {
   "cell_type": "code",
   "execution_count": 51,
   "metadata": {},
   "outputs": [
    {
     "data": {
      "text/plain": [
       "'0000000126'"
      ]
     },
     "execution_count": 51,
     "metadata": {},
     "output_type": "execute_result"
    }
   ],
   "source": [
    "#有删除空格 当然也有填充的 center ljust rjust 都是添加空格保证中心对齐 左右对齐\n",
    "#也不一定是添加空格 可以添加指定字符\n",
    "'126'.rjust(10,'0')"
   ]
  },
  {
   "cell_type": "code",
   "execution_count": 52,
   "metadata": {},
   "outputs": [],
   "source": [
    "#查找和替换字符串\n",
    "sent = 'adong is a shabi'"
   ]
  },
  {
   "cell_type": "code",
   "execution_count": 53,
   "metadata": {},
   "outputs": [
    {
     "data": {
      "text/plain": [
       "11"
      ]
     },
     "execution_count": 53,
     "metadata": {},
     "output_type": "execute_result"
    }
   ],
   "source": [
    "sent.find('shabi')"
   ]
  },
  {
   "cell_type": "code",
   "execution_count": 54,
   "metadata": {},
   "outputs": [
    {
     "data": {
      "text/plain": [
       "11"
      ]
     },
     "execution_count": 54,
     "metadata": {},
     "output_type": "execute_result"
    }
   ],
   "source": [
    "sent.index('shabi')"
   ]
  },
  {
   "cell_type": "code",
   "execution_count": 55,
   "metadata": {},
   "outputs": [
    {
     "data": {
      "text/plain": [
       "-1"
      ]
     },
     "execution_count": 55,
     "metadata": {},
     "output_type": "execute_result"
    }
   ],
   "source": [
    "sent.find('talent') #index 如果没有找到指定的字符串会报错 而find会给出-1"
   ]
  },
  {
   "cell_type": "code",
   "execution_count": 56,
   "metadata": {},
   "outputs": [
    {
     "data": {
      "text/plain": [
       "13"
      ]
     },
     "execution_count": 56,
     "metadata": {},
     "output_type": "execute_result"
    }
   ],
   "source": [
    "#rfind和rindex是从尾部往前找\n",
    "sent.rfind('a')"
   ]
  },
  {
   "cell_type": "code",
   "execution_count": 57,
   "metadata": {},
   "outputs": [
    {
     "data": {
      "text/plain": [
       "0"
      ]
     },
     "execution_count": 57,
     "metadata": {},
     "output_type": "execute_result"
    }
   ],
   "source": [
    "sent.find('a')"
   ]
  },
  {
   "cell_type": "code",
   "execution_count": 58,
   "metadata": {},
   "outputs": [
    {
     "data": {
      "text/plain": [
       "True"
      ]
     },
     "execution_count": 58,
     "metadata": {},
     "output_type": "execute_result"
    }
   ],
   "source": [
    "#对字符串的开头和结尾的子串做检查\n",
    "sent.startswith('adong')"
   ]
  },
  {
   "cell_type": "code",
   "execution_count": 59,
   "metadata": {},
   "outputs": [
    {
     "data": {
      "text/plain": [
       "True"
      ]
     },
     "execution_count": 59,
     "metadata": {},
     "output_type": "execute_result"
    }
   ],
   "source": [
    "sent.endswith('shabi')"
   ]
  },
  {
   "cell_type": "code",
   "execution_count": 60,
   "metadata": {},
   "outputs": [
    {
     "name": "stdout",
     "output_type": "stream",
     "text": [
      "adong is a shabi\n"
     ]
    }
   ],
   "source": [
    "print(sent)"
   ]
  },
  {
   "cell_type": "code",
   "execution_count": 61,
   "metadata": {},
   "outputs": [
    {
     "data": {
      "text/plain": [
       "'adong is a dashabi'"
      ]
     },
     "execution_count": 61,
     "metadata": {},
     "output_type": "execute_result"
    }
   ],
   "source": [
    "sent.replace('shabi','dashabi')"
   ]
  },
  {
   "cell_type": "code",
   "execution_count": 62,
   "metadata": {},
   "outputs": [
    {
     "name": "stdout",
     "output_type": "stream",
     "text": [
      "adong is a shabi\n"
     ]
    }
   ],
   "source": [
    "print(sent) #上述操作都是返回一个新的字符串 但是并不影响原来的sent"
   ]
  },
  {
   "cell_type": "code",
   "execution_count": 63,
   "metadata": {},
   "outputs": [
    {
     "data": {
      "text/plain": [
       "('adong is a ', 'shabi', '')"
      ]
     },
     "execution_count": 63,
     "metadata": {},
     "output_type": "execute_result"
    }
   ],
   "source": [
    "sent.partition('shabi')"
   ]
  },
  {
   "cell_type": "code",
   "execution_count": 64,
   "metadata": {},
   "outputs": [
    {
     "data": {
      "text/plain": [
       "('adong is a ', 'shabi', '')"
      ]
     },
     "execution_count": 64,
     "metadata": {},
     "output_type": "execute_result"
    }
   ],
   "source": [
    "sent.rpartition('shabi')"
   ]
  },
  {
   "cell_type": "code",
   "execution_count": 65,
   "metadata": {},
   "outputs": [
    {
     "data": {
      "text/plain": [
       "['adong', 'is', 'a', 'shabi']"
      ]
     },
     "execution_count": 65,
     "metadata": {},
     "output_type": "execute_result"
    }
   ],
   "source": [
    "sent.split()"
   ]
  },
  {
   "cell_type": "code",
   "execution_count": 66,
   "metadata": {},
   "outputs": [
    {
     "data": {
      "text/plain": [
       "['adong is a dog', 'a very big dog.']"
      ]
     },
     "execution_count": 66,
     "metadata": {},
     "output_type": "execute_result"
    }
   ],
   "source": [
    "passage = \"\"\"adong is a dog\n",
    "a very big dog.\"\"\"\n",
    "passage.splitlines()"
   ]
  },
  {
   "cell_type": "code",
   "execution_count": 67,
   "metadata": {},
   "outputs": [
    {
     "name": "stdout",
     "output_type": "stream",
     "text": [
      "adong is a dog\n",
      "a very big dog.\n"
     ]
    }
   ],
   "source": [
    "print(\"\\n\".join(['adong is a dog', 'a very big dog.']))"
   ]
  },
  {
   "cell_type": "code",
   "execution_count": 68,
   "metadata": {},
   "outputs": [
    {
     "data": {
      "text/plain": [
       "'3.14159'"
      ]
     },
     "execution_count": 68,
     "metadata": {},
     "output_type": "execute_result"
    }
   ],
   "source": [
    "#等价字符串方法\n",
    "pi = 3.14159\n",
    "str(pi)"
   ]
  },
  {
   "cell_type": "code",
   "execution_count": 69,
   "metadata": {},
   "outputs": [
    {
     "data": {
      "text/plain": [
       "'the value of pi is 3.14159'"
      ]
     },
     "execution_count": 69,
     "metadata": {},
     "output_type": "execute_result"
    }
   ],
   "source": [
    "\"the value of pi is \" + str(pi)"
   ]
  },
  {
   "cell_type": "code",
   "execution_count": 70,
   "metadata": {},
   "outputs": [
    {
     "data": {
      "text/plain": [
       "'the value of pi is 3.14159'"
      ]
     },
     "execution_count": 70,
     "metadata": {},
     "output_type": "execute_result"
    }
   ],
   "source": [
    "#用格式化字符串办法\n",
    "\"the value of pi is {}\".format(pi)"
   ]
  },
  {
   "cell_type": "code",
   "execution_count": 71,
   "metadata": {},
   "outputs": [
    {
     "data": {
      "text/plain": [
       "'first letter is A. last letter is Z'"
      ]
     },
     "execution_count": 71,
     "metadata": {},
     "output_type": "execute_result"
    }
   ],
   "source": [
    "\"\"\"first letter is {0}. last letter is {1}\"\"\".format('A','Z')"
   ]
  },
  {
   "cell_type": "code",
   "execution_count": 72,
   "metadata": {},
   "outputs": [
    {
     "data": {
      "text/plain": [
       "'first letter is A. last letter is Z'"
      ]
     },
     "execution_count": 72,
     "metadata": {},
     "output_type": "execute_result"
    }
   ],
   "source": [
    "'first letter is {0}. last letter is {1}'.format('A','Z')"
   ]
  },
  {
   "cell_type": "code",
   "execution_count": 73,
   "metadata": {},
   "outputs": [
    {
     "data": {
      "text/plain": [
       "'first letter is Z. last letter is A'"
      ]
     },
     "execution_count": 73,
     "metadata": {},
     "output_type": "execute_result"
    }
   ],
   "source": [
    "'first letter is {1}. last letter is {0}'.format('A','Z')"
   ]
  },
  {
   "cell_type": "code",
   "execution_count": 74,
   "metadata": {},
   "outputs": [
    {
     "data": {
      "text/plain": [
       "'first letter is A. last letter is Z'"
      ]
     },
     "execution_count": 74,
     "metadata": {},
     "output_type": "execute_result"
    }
   ],
   "source": [
    "'first letter is {first}. last letter is {last}'.format(first='A',last='Z')"
   ]
  },
  {
   "cell_type": "code",
   "execution_count": 75,
   "metadata": {},
   "outputs": [
    {
     "data": {
      "text/plain": [
       "'first letter is Z. last letter is A'"
      ]
     },
     "execution_count": 75,
     "metadata": {},
     "output_type": "execute_result"
    }
   ],
   "source": [
    "'first letter is {first}. last letter is {last}'.format(first='Z',last='A')"
   ]
  },
  {
   "cell_type": "code",
   "execution_count": 76,
   "metadata": {},
   "outputs": [
    {
     "data": {
      "text/plain": [
       "'pi = 3.142'"
      ]
     },
     "execution_count": 76,
     "metadata": {},
     "output_type": "execute_result"
    }
   ],
   "source": [
    "'pi = {0:.3f}'.format(pi) #小数点后保留三位小数"
   ]
  },
  {
   "cell_type": "code",
   "execution_count": 77,
   "metadata": {},
   "outputs": [],
   "source": [
    "#正则表达式异常强大\n",
    "import re\n",
    "email = re.compile('\\w+@\\w+\\.[a-z]{3}')"
   ]
  },
  {
   "cell_type": "code",
   "execution_count": 78,
   "metadata": {},
   "outputs": [
    {
     "data": {
      "text/plain": [
       "['guido@python.org', 'guido@google.com', 'guidopython@gmail.com']"
      ]
     },
     "execution_count": 78,
     "metadata": {},
     "output_type": "execute_result"
    }
   ],
   "source": [
    "text = 'to email Guido, try guido@python.org or the older address guido@google.com or guidopython@gmail.com'\n",
    "email.findall(text)"
   ]
  },
  {
   "cell_type": "code",
   "execution_count": 79,
   "metadata": {},
   "outputs": [
    {
     "data": {
      "text/plain": [
       "'to email Guido, try --@---.-- or the older address --@---.-- or --@---.--'"
      ]
     },
     "execution_count": 79,
     "metadata": {},
     "output_type": "execute_result"
    }
   ],
   "source": [
    "email.sub('--@---.--',text) #sub is like replace"
   ]
  },
  {
   "cell_type": "code",
   "execution_count": 80,
   "metadata": {},
   "outputs": [
    {
     "data": {
      "text/plain": [
       "['$']"
      ]
     },
     "execution_count": 80,
     "metadata": {},
     "output_type": "execute_result"
    }
   ],
   "source": [
    "#特殊字符不能直接匹配 比如 . ~ $ * + {} [] \\ | ()\n",
    "#要匹配这些字符需要反转义\n",
    "regex = re.compile(r'\\$')\n",
    "regex.findall('this book is $20')"
   ]
  },
  {
   "cell_type": "code",
   "execution_count": 81,
   "metadata": {},
   "outputs": [
    {
     "data": {
      "text/plain": [
       "['barack.obama@whitehouse.gov']"
      ]
     },
     "execution_count": 81,
     "metadata": {},
     "output_type": "execute_result"
    }
   ],
   "source": [
    "#正则表达式还需要多查询 多使用才能熟悉\n",
    "email2 = re.compile(r'[\\w.]+@\\w+\\.[a-z]{3}')\n",
    "email2.findall('barack.obama@whitehouse.gov')"
   ]
  },
  {
   "cell_type": "code",
   "execution_count": 82,
   "metadata": {},
   "outputs": [
    {
     "data": {
      "text/plain": [
       "[('barack.obama', 'e', 'gov')]"
      ]
     },
     "execution_count": 82,
     "metadata": {},
     "output_type": "execute_result"
    }
   ],
   "source": [
    "email3 = re.compile(r'([\\w.]+)@(\\w)+\\.([a-z]{3})')\n",
    "email3.findall('barack.obama@whitehouse.gov')"
   ]
  },
  {
   "cell_type": "code",
   "execution_count": 83,
   "metadata": {},
   "outputs": [
    {
     "data": {
      "text/plain": [
       "{'user': 'barack.obama', 'domain': 'e', 'suffix': 'gov'}"
      ]
     },
     "execution_count": 83,
     "metadata": {},
     "output_type": "execute_result"
    }
   ],
   "source": [
    "email4 = re.compile(r'(?P<user>[\\w.]+)@(?P<domain>\\w)+\\.(?P<suffix>[a-z]{3})')\n",
    "match = email4.match('barack.obama@whitehouse.gov')\n",
    "match.groupdict()"
   ]
  },
  {
   "cell_type": "code",
   "execution_count": 84,
   "metadata": {},
   "outputs": [
    {
     "name": "stdout",
     "output_type": "stream",
     "text": [
      "[[1, 2, 3, 4], [1, 2, 3, 4], [1, 2, 3, 4]]\n",
      "[[1, 2, 126, 4], [1, 2, 126, 4], [1, 2, 126, 4]]\n"
     ]
    }
   ],
   "source": [
    "mylist = [1,2,3,4]\n",
    "A = [mylist]*3\n",
    "print(A)\n",
    "mylist[2] = 126\n",
    "print(A)"
   ]
  },
  {
   "cell_type": "code",
   "execution_count": 85,
   "metadata": {},
   "outputs": [
    {
     "data": {
      "text/plain": [
       "4"
      ]
     },
     "execution_count": 85,
     "metadata": {},
     "output_type": "execute_result"
    }
   ],
   "source": [
    "mylist.pop()"
   ]
  },
  {
   "cell_type": "code",
   "execution_count": 86,
   "metadata": {},
   "outputs": [
    {
     "data": {
      "text/plain": [
       "[1, 2, 126]"
      ]
     },
     "execution_count": 86,
     "metadata": {},
     "output_type": "execute_result"
    }
   ],
   "source": [
    "mylist"
   ]
  },
  {
   "cell_type": "code",
   "execution_count": 87,
   "metadata": {},
   "outputs": [
    {
     "name": "stdout",
     "output_type": "stream",
     "text": [
      "[[1, 2, 126], [1, 2, 126], [1, 2, 126]]\n"
     ]
    }
   ],
   "source": [
    "print(A)"
   ]
  },
  {
   "cell_type": "code",
   "execution_count": 88,
   "metadata": {},
   "outputs": [
    {
     "data": {
      "text/plain": [
       "'**Messi***'"
      ]
     },
     "execution_count": 88,
     "metadata": {},
     "output_type": "execute_result"
    }
   ],
   "source": [
    "myname = 'Messi'\n",
    "myname.center(10,'*')"
   ]
  },
  {
   "cell_type": "code",
   "execution_count": 89,
   "metadata": {},
   "outputs": [
    {
     "data": {
      "text/plain": [
       "'Messi-----'"
      ]
     },
     "execution_count": 89,
     "metadata": {},
     "output_type": "execute_result"
    }
   ],
   "source": [
    "myname.ljust(10,'-')#5 is total space size"
   ]
  },
  {
   "cell_type": "code",
   "execution_count": 90,
   "metadata": {},
   "outputs": [
    {
     "data": {
      "text/plain": [
       "'-----Messi'"
      ]
     },
     "execution_count": 90,
     "metadata": {},
     "output_type": "execute_result"
    }
   ],
   "source": [
    "myname.rjust(10,'-')#5 is total space size"
   ]
  },
  {
   "cell_type": "code",
   "execution_count": 91,
   "metadata": {},
   "outputs": [
    {
     "name": "stdout",
     "output_type": "stream",
     "text": [
      "{'Yuhuan': 1989, 'Kunming': 2007, 'Anji': 2014, 'Yuxi': 2019}\n"
     ]
    }
   ],
   "source": [
    "mydict = {}\n",
    "mydate = [1989,2007,2014,2019]\n",
    "myposition = ['Yuhuan','Kunming','Anji','Yuxi']\n",
    "for position,date in zip(myposition,mydate):\n",
    "    mydict[position] = date\n",
    "print(mydict)"
   ]
  },
  {
   "cell_type": "code",
   "execution_count": 92,
   "metadata": {},
   "outputs": [
    {
     "data": {
      "text/plain": [
       "dict_keys(['Yuhuan', 'Kunming', 'Anji', 'Yuxi'])"
      ]
     },
     "execution_count": 92,
     "metadata": {},
     "output_type": "execute_result"
    }
   ],
   "source": [
    "mydict.keys()"
   ]
  },
  {
   "cell_type": "code",
   "execution_count": 93,
   "metadata": {},
   "outputs": [
    {
     "data": {
      "text/plain": [
       "dict_values([1989, 2007, 2014, 2019])"
      ]
     },
     "execution_count": 93,
     "metadata": {},
     "output_type": "execute_result"
    }
   ],
   "source": [
    "mydict.values()"
   ]
  },
  {
   "cell_type": "code",
   "execution_count": 94,
   "metadata": {},
   "outputs": [
    {
     "data": {
      "text/plain": [
       "dict_items([('Yuhuan', 1989), ('Kunming', 2007), ('Anji', 2014), ('Yuxi', 2019)])"
      ]
     },
     "execution_count": 94,
     "metadata": {},
     "output_type": "execute_result"
    }
   ],
   "source": [
    "mydict.items()"
   ]
  },
  {
   "cell_type": "code",
   "execution_count": 95,
   "metadata": {},
   "outputs": [
    {
     "data": {
      "text/plain": [
       "'Never been there'"
      ]
     },
     "execution_count": 95,
     "metadata": {},
     "output_type": "execute_result"
    }
   ],
   "source": [
    "mydict.get('Beijing','Never been there')"
   ]
  },
  {
   "cell_type": "code",
   "execution_count": 96,
   "metadata": {},
   "outputs": [
    {
     "name": "stdout",
     "output_type": "stream",
     "text": [
      "the banana costs 126 yuan\n"
     ]
    }
   ],
   "source": [
    "price = 126\n",
    "item = 'banana'\n",
    "print('the %s costs %d yuan' %(item,price)) #默认是空格分隔符 可以用sep=XXX改变"
   ]
  },
  {
   "cell_type": "code",
   "execution_count": 97,
   "metadata": {},
   "outputs": [
    {
     "name": "stdout",
     "output_type": "stream",
     "text": [
      "the banana costs 126 yuan***seperation item\n"
     ]
    }
   ],
   "source": [
    "print('the %s costs %d yuan' %(item,price),'seperation item',sep='***') #默认是空格分隔符 可以用sep=XXX改变"
   ]
  },
  {
   "cell_type": "code",
   "execution_count": 98,
   "metadata": {},
   "outputs": [
    {
     "name": "stdout",
     "output_type": "stream",
     "text": [
      "the     banana costs 126.00 yuan\n"
     ]
    }
   ],
   "source": [
    "print('the %+10s costs %5.2f yuan' %(item,price))"
   ]
  },
  {
   "cell_type": "code",
   "execution_count": 99,
   "metadata": {},
   "outputs": [
    {
     "name": "stdout",
     "output_type": "stream",
     "text": [
      "the apple costs   24.00 cents\n"
     ]
    }
   ],
   "source": [
    "itemdict = {'item':'apple','cost':24}\n",
    "print('the %(item)s costs %(cost)7.2f cents'%itemdict)"
   ]
  },
  {
   "cell_type": "code",
   "execution_count": 100,
   "metadata": {},
   "outputs": [
    {
     "name": "stdout",
     "output_type": "stream",
     "text": [
      "['c', 'a', 't', 'd', 'o', 'g', 'e', 'l', 'e', 'p', 'h', 'a', 'n', 't', 'd', 'o', 'l', 'p', 'h', 'i', 'n', 'a', 'n', 't', 'f', 'l', 'y']\n"
     ]
    }
   ],
   "source": [
    "wordlist = ['cat','dog','elephant','dolphin','ant','fly']\n",
    "letterlist = []\n",
    "for aword in wordlist:\n",
    "    for aletter in aword:\n",
    "        letterlist.append(aletter)\n",
    "print(letterlist)"
   ]
  },
  {
   "cell_type": "code",
   "execution_count": 101,
   "metadata": {},
   "outputs": [
    {
     "name": "stdout",
     "output_type": "stream",
     "text": [
      "{'h', 't', 'c', 'f', 'd', 'i', 'g', 'e', 'l', 'o', 'n', 'p', 'y', 'a'}\n"
     ]
    }
   ],
   "source": [
    "print(set(letterlist))"
   ]
  },
  {
   "cell_type": "code",
   "execution_count": 102,
   "metadata": {},
   "outputs": [
    {
     "name": "stdout",
     "output_type": "stream",
     "text": [
      "['a', 'c', 'd', 'e', 'f', 'g', 'h', 'i', 'l', 'n', 'o', 'p', 't', 'y']\n"
     ]
    }
   ],
   "source": [
    "print(sorted(set(letterlist)))"
   ]
  },
  {
   "cell_type": "code",
   "execution_count": 103,
   "metadata": {},
   "outputs": [
    {
     "data": {
      "text/plain": [
       "['C', 'M', 'P', 'R', 'H', 'N', 'S', 'N']"
      ]
     },
     "execution_count": 103,
     "metadata": {},
     "output_type": "execute_result"
    }
   ],
   "source": [
    "[ch.upper() for ch in 'comprehension' if ch not in 'aeiou']"
   ]
  },
  {
   "cell_type": "code",
   "execution_count": 104,
   "metadata": {},
   "outputs": [],
   "source": [
    "#类是抽象数据的一种实现\n",
    "class Fraction:\n",
    "    def __init__(self,top,bottom):\n",
    "        self.fenzi = top\n",
    "        self.fenmu = bottom\n",
    "    \n",
    "    def show(self):\n",
    "        print(self.fenzi,'/',self.fenmu)\n",
    "\n",
    "myfraction = Fraction(3,5)"
   ]
  },
  {
   "cell_type": "code",
   "execution_count": 105,
   "metadata": {},
   "outputs": [
    {
     "name": "stdout",
     "output_type": "stream",
     "text": [
      "<__main__.Fraction object at 0x000001493D2760F0>\n"
     ]
    }
   ],
   "source": [
    "print(myfraction)"
   ]
  },
  {
   "cell_type": "code",
   "execution_count": 106,
   "metadata": {},
   "outputs": [
    {
     "name": "stdout",
     "output_type": "stream",
     "text": [
      "3 / 5\n"
     ]
    }
   ],
   "source": [
    "myfraction.show()"
   ]
  },
  {
   "cell_type": "code",
   "execution_count": 107,
   "metadata": {},
   "outputs": [],
   "source": [
    "#也可以用修改内置的str方法 也就是覆盖了内置的__str__\n",
    "class Fraction1:\n",
    "    def __init__(self,top,bottom):\n",
    "        self.fenzi = top\n",
    "        self.fenmu = bottom\n",
    "    def __str__(self):\n",
    "        return str(self.fenzi)+'/'+str(self.fenmu)\n",
    "    def __add__(self,otherfraction):\n",
    "        newfenzi = self.fenzi*otherfraction.fenmu + self.fenmu*otherfraction.fenzi\n",
    "        newfenmu = self.fenmu * otherfraction.fenmu\n",
    "        return Fraction1(newfenzi,newfenmu)\n",
    "\n",
    "myfraction1 = Fraction1(3,5)"
   ]
  },
  {
   "cell_type": "code",
   "execution_count": 108,
   "metadata": {},
   "outputs": [
    {
     "name": "stdout",
     "output_type": "stream",
     "text": [
      "3/5\n"
     ]
    }
   ],
   "source": [
    "print(myfraction1)"
   ]
  },
  {
   "cell_type": "code",
   "execution_count": 109,
   "metadata": {},
   "outputs": [
    {
     "name": "stdout",
     "output_type": "stream",
     "text": [
      "13/20\n"
     ]
    }
   ],
   "source": [
    "f1 = Fraction1(1,4)\n",
    "f2 = Fraction1(2,5)\n",
    "f3 = f1 + f2\n",
    "print(f3)"
   ]
  },
  {
   "cell_type": "code",
   "execution_count": 110,
   "metadata": {},
   "outputs": [
    {
     "name": "stdout",
     "output_type": "stream",
     "text": [
      "True\n"
     ]
    }
   ],
   "source": [
    "#乱序字符串检查 earth 和 heart就是乱序的 两者长度字母都一样 就是字母顺序打乱了\n",
    "def dis_ord_solution(s1,s2):\n",
    "    c1 = [0]*26\n",
    "    c2 = [0]*26\n",
    "    \n",
    "    for i in range(len(s1)):\n",
    "        pos = ord(s1[i])-ord('a')\n",
    "        c1[pos] = c1[pos]+1\n",
    "    \n",
    "    for i in range(len(s2)):\n",
    "        pos = ord(s2[i])-ord('a')\n",
    "        c2[pos] = c2[pos]+1\n",
    "    \n",
    "    j=0\n",
    "    stillOK = True\n",
    "    while j<26 and stillOK:\n",
    "        if c1[j] == c2[j]:\n",
    "            j = j + 1\n",
    "        else:\n",
    "            stillOK = False\n",
    "    \n",
    "    return stillOK\n",
    "\n",
    "print(dis_ord_solution('earth','heart'))"
   ]
  },
  {
   "cell_type": "code",
   "execution_count": 111,
   "metadata": {},
   "outputs": [
    {
     "name": "stdout",
     "output_type": "stream",
     "text": [
      "True\n"
     ]
    }
   ],
   "source": [
    "print(dis_ord_solution('apple','pleap'))"
   ]
  },
  {
   "cell_type": "code",
   "execution_count": 112,
   "metadata": {},
   "outputs": [],
   "source": [
    "#栈 stack的实现 LIFO = last in first out\n",
    "class Stack:\n",
    "    def __init__(self):\n",
    "        self.listitems = []\n",
    "    \n",
    "    def isEmpty(self):\n",
    "        return self.listitems == []\n",
    "    \n",
    "    def push(self,item):\n",
    "        self.listitems.append(item)\n",
    "        \n",
    "    def pop(self):\n",
    "        return self.listitems.pop()\n",
    "    \n",
    "    def peek(self):\n",
    "        return self.listitems[len(self.listitems)-1]\n",
    "    \n",
    "    def size(self):\n",
    "        return len(self.listitems)\n",
    "\n"
   ]
  },
  {
   "cell_type": "code",
   "execution_count": 113,
   "metadata": {},
   "outputs": [],
   "source": [
    "s = Stack()\n",
    "s.push(4)"
   ]
  },
  {
   "cell_type": "code",
   "execution_count": 114,
   "metadata": {},
   "outputs": [],
   "source": [
    "s.push('dog')\n"
   ]
  },
  {
   "cell_type": "code",
   "execution_count": 115,
   "metadata": {},
   "outputs": [
    {
     "name": "stdout",
     "output_type": "stream",
     "text": [
      "dog\n"
     ]
    }
   ],
   "source": [
    "print(s.peek())"
   ]
  },
  {
   "cell_type": "code",
   "execution_count": 116,
   "metadata": {},
   "outputs": [
    {
     "name": "stdout",
     "output_type": "stream",
     "text": [
      "2\n",
      "False\n"
     ]
    }
   ],
   "source": [
    "print(s.size())\n",
    "print(s.isEmpty())"
   ]
  },
  {
   "cell_type": "code",
   "execution_count": 117,
   "metadata": {},
   "outputs": [
    {
     "data": {
      "text/plain": [
       "'dog'"
      ]
     },
     "execution_count": 117,
     "metadata": {},
     "output_type": "execute_result"
    }
   ],
   "source": [
    "s.pop()"
   ]
  },
  {
   "cell_type": "code",
   "execution_count": 118,
   "metadata": {},
   "outputs": [
    {
     "name": "stdout",
     "output_type": "stream",
     "text": [
      "1\n",
      "False\n"
     ]
    }
   ],
   "source": [
    "print(s.size())\n",
    "print(s.isEmpty())"
   ]
  },
  {
   "cell_type": "code",
   "execution_count": 119,
   "metadata": {},
   "outputs": [
    {
     "data": {
      "text/plain": [
       "4"
      ]
     },
     "execution_count": 119,
     "metadata": {},
     "output_type": "execute_result"
    }
   ],
   "source": [
    "s.pop()"
   ]
  },
  {
   "cell_type": "code",
   "execution_count": 120,
   "metadata": {},
   "outputs": [
    {
     "name": "stdout",
     "output_type": "stream",
     "text": [
      "0\n",
      "True\n"
     ]
    }
   ],
   "source": [
    "print(s.size())\n",
    "print(s.isEmpty())"
   ]
  },
  {
   "cell_type": "code",
   "execution_count": 121,
   "metadata": {},
   "outputs": [],
   "source": [
    "#匹配括号 主要思想是(()) 遇到开括号（就存 如果是闭括号）就pop一个开阔号 表明一个完整的括号已配对\n",
    "#如果最后栈里面为空 那么所有括号全匹配\n",
    "#如果第一个括号就是闭括号） 那肯定不匹配\n",
    "#最后不仅要满足匹配 还要满足栈为空 否则（）））这种就会被误认为是匹配\n",
    "def parChecker(symbolString):\n",
    "    s = Stack()\n",
    "    balanced = True\n",
    "    index = 0\n",
    "    while index < len(symbolString) and balanced:\n",
    "        symbol = symbolString[index]\n",
    "        if symbol == '(':\n",
    "            s.push(symbol)\n",
    "        else:\n",
    "            if s.isEmpty():\n",
    "                balanced = False\n",
    "            else:\n",
    "                s.pop()\n",
    "        index = index + 1\n",
    "    if balanced and s.isEmpty():\n",
    "        return True\n",
    "    else:\n",
    "        return False\n"
   ]
  },
  {
   "cell_type": "code",
   "execution_count": 122,
   "metadata": {},
   "outputs": [
    {
     "name": "stdout",
     "output_type": "stream",
     "text": [
      "True\n",
      "False\n"
     ]
    }
   ],
   "source": [
    "print(parChecker('(((())))'))\n",
    "print(parChecker('())'))"
   ]
  },
  {
   "cell_type": "code",
   "execution_count": 123,
   "metadata": {},
   "outputs": [],
   "source": [
    "#上述的程序仅针对（）可以扩展到其他括号{}【】等\n",
    "#({)}是无法匹配的 （{}）是匹配\n",
    "def parCheckerAll(symbolString):\n",
    "    s = Stack()\n",
    "    balanced = True\n",
    "    index = 0\n",
    "    while index < len(symbolString) and balanced:\n",
    "        symbol = symbolString[index]\n",
    "        if symbol in '([{':\n",
    "            s.push(symbol)\n",
    "        else:\n",
    "            if s.isEmpty():\n",
    "                balanced = False\n",
    "            else:\n",
    "                top = s.pop()\n",
    "                if not matches(top,symbol):\n",
    "                    balanced = False\n",
    "            \n",
    "        index = index + 1\n",
    "    if balanced and s.isEmpty():\n",
    "        return True\n",
    "    else:\n",
    "        return False\n",
    "    \n",
    "\n",
    "def matches(open,close):\n",
    "    opens = '([{'\n",
    "    closes = ')]}'\n",
    "    return opens.index(open) == closes.index(close)\n",
    "\n",
    "\n"
   ]
  },
  {
   "cell_type": "code",
   "execution_count": 124,
   "metadata": {},
   "outputs": [
    {
     "name": "stdout",
     "output_type": "stream",
     "text": [
      "True\n",
      "False\n"
     ]
    }
   ],
   "source": [
    "print(parCheckerAll('([{{()}}])'))\n",
    "print(parCheckerAll('{[}]'))"
   ]
  },
  {
   "cell_type": "code",
   "execution_count": 125,
   "metadata": {},
   "outputs": [],
   "source": [
    "#十进制转换为二进制 主要是利用除以2的除法 核心是push和pop 具体算法可以参考PythonII的数据结构\n",
    "def divideBy2(decNum):\n",
    "    remstack = Stack()\n",
    "    \n",
    "    while decNum > 0:\n",
    "        rem = decNum % 2\n",
    "        remstack.push(rem)\n",
    "        decNum = decNum // 2\n",
    "    \n",
    "    binString = ''\n",
    "    while not remstack.isEmpty():\n",
    "        binString = binString + str(remstack.pop())\n",
    "    \n",
    "    return binString\n"
   ]
  },
  {
   "cell_type": "code",
   "execution_count": 126,
   "metadata": {},
   "outputs": [
    {
     "name": "stdout",
     "output_type": "stream",
     "text": [
      "101010\n"
     ]
    }
   ],
   "source": [
    "print(divideBy2(42))"
   ]
  },
  {
   "cell_type": "code",
   "execution_count": 127,
   "metadata": {},
   "outputs": [],
   "source": [
    "#队列queue FIFO = First in First out\n",
    "class Queue:\n",
    "    def __init__(self):\n",
    "        self.queueitems = []\n",
    "    \n",
    "    def isEmpty(self):\n",
    "        return self.queueitems == []\n",
    "    \n",
    "    def enqueue(self,item):\n",
    "        return self.queueitems.insert(0,item)\n",
    "    \n",
    "    def dequeue(self):\n",
    "        return self.queueitems.pop()\n",
    "    \n",
    "    def size(self):\n",
    "        return len(self.queueitems)\n"
   ]
  },
  {
   "cell_type": "code",
   "execution_count": 128,
   "metadata": {},
   "outputs": [],
   "source": [
    "q = Queue()\n"
   ]
  },
  {
   "cell_type": "code",
   "execution_count": 129,
   "metadata": {},
   "outputs": [
    {
     "data": {
      "text/plain": [
       "True"
      ]
     },
     "execution_count": 129,
     "metadata": {},
     "output_type": "execute_result"
    }
   ],
   "source": [
    "q.isEmpty()"
   ]
  },
  {
   "cell_type": "code",
   "execution_count": 130,
   "metadata": {},
   "outputs": [],
   "source": [
    "q.enqueue(9)"
   ]
  },
  {
   "cell_type": "code",
   "execution_count": 131,
   "metadata": {},
   "outputs": [
    {
     "data": {
      "text/plain": [
       "1"
      ]
     },
     "execution_count": 131,
     "metadata": {},
     "output_type": "execute_result"
    }
   ],
   "source": [
    "q.size()"
   ]
  },
  {
   "cell_type": "code",
   "execution_count": 132,
   "metadata": {},
   "outputs": [],
   "source": [
    "q.enqueue('haha')"
   ]
  },
  {
   "cell_type": "code",
   "execution_count": 133,
   "metadata": {},
   "outputs": [
    {
     "data": {
      "text/plain": [
       "2"
      ]
     },
     "execution_count": 133,
     "metadata": {},
     "output_type": "execute_result"
    }
   ],
   "source": [
    "q.size()"
   ]
  },
  {
   "cell_type": "code",
   "execution_count": 134,
   "metadata": {},
   "outputs": [],
   "source": [
    "q.enqueue(126)"
   ]
  },
  {
   "cell_type": "code",
   "execution_count": 135,
   "metadata": {},
   "outputs": [
    {
     "data": {
      "text/plain": [
       "9"
      ]
     },
     "execution_count": 135,
     "metadata": {},
     "output_type": "execute_result"
    }
   ],
   "source": [
    "q.dequeue()"
   ]
  },
  {
   "cell_type": "code",
   "execution_count": 136,
   "metadata": {},
   "outputs": [
    {
     "data": {
      "text/plain": [
       "'haha'"
      ]
     },
     "execution_count": 136,
     "metadata": {},
     "output_type": "execute_result"
    }
   ],
   "source": [
    "q.dequeue()"
   ]
  },
  {
   "cell_type": "code",
   "execution_count": 137,
   "metadata": {},
   "outputs": [
    {
     "data": {
      "text/plain": [
       "126"
      ]
     },
     "execution_count": 137,
     "metadata": {},
     "output_type": "execute_result"
    }
   ],
   "source": [
    "q.dequeue()"
   ]
  },
  {
   "cell_type": "code",
   "execution_count": 138,
   "metadata": {},
   "outputs": [
    {
     "data": {
      "text/plain": [
       "0"
      ]
     },
     "execution_count": 138,
     "metadata": {},
     "output_type": "execute_result"
    }
   ],
   "source": [
    "q.size()"
   ]
  },
  {
   "cell_type": "code",
   "execution_count": 139,
   "metadata": {},
   "outputs": [
    {
     "name": "stdout",
     "output_type": "stream",
     "text": [
      "agou\n"
     ]
    }
   ],
   "source": [
    "#烫手山芋 也就是击鼓传花 假定花就在队首（列尾） 在队首的元素先出队再入队（队尾=列首） 直到遇到指定的数停止\n",
    "#此时改元素被永久出列 接着开始新一轮N的传递 直到最后只剩下一个元素\n",
    "def hotPotato(namelist,num):\n",
    "    simqueue = Queue()\n",
    "    for name in namelist:\n",
    "        simqueue.enqueue(name) #先全部入队\n",
    "    \n",
    "    while simqueue.size() > 1:\n",
    "        for i in range(num):\n",
    "            simqueue.enqueue(simqueue.dequeue())#先出队再入队 完成N次 最后那个人就是天命之人要滚蛋\n",
    "        \n",
    "        simqueue.dequeue() #天命之人彻底滚蛋\n",
    "    \n",
    "    return simqueue.dequeue() #剩下的这个幸运儿 但是此时simqueue也空了 但是没事 本来就是内部的队列不影响外部\n",
    "\n",
    "print(hotPotato(['amao','adong','agou','qingqing','lingling','weiwei','binbin'],5))\n",
    "        "
   ]
  },
  {
   "cell_type": "code",
   "execution_count": 140,
   "metadata": {},
   "outputs": [],
   "source": [
    "#模拟打印机\n",
    "#学生可以向共享打印机发送任务\n",
    "#每天的工作时间内平均1小时有大约10位学生在实验室 平均每人2个任务 页面在1-20之间\n",
    "#打印机有两种打印速度模式 一般质量一分钟10页 较好质量一分钟5页\n",
    "#但是考虑到慢速可能影响后面的学生 使其等待过久 应该如何调节\n",
    "#建立模拟任务 考察应该以何种速度打印比较合适\n",
    "#我们为学生 打印任务和打印机构建一个模拟实验 当学生提交任务到打印任务时\n",
    "#我们将它们添加到等待列表 一个打印任务的队列 当打印机完成任务时 它将检查队列\n",
    "#以检查是否有剩余的任务要处理 我们感兴趣的学生等待他们论文打印的平均时间\n",
    "#也就是任务在队列中等待的平均时间\n",
    "#为了模拟需要做一些假设 假定长度从1-20的概率相等，则可以通过使用1-20的随机数来模拟打印实际长度\n",
    "#10个学生 每人打印2次 则平均每小时有20个任务 也就是平均180秒一个任务\n",
    "#对于每一秒 我们可以通过生成1-180之间的随机数来模拟打印任务发生的机会\n",
    "#如果数字是180 我们说一个任务已经创建 但可能会在一下子创建许多任务 或者需要等待\n",
    "#一段时间才有任务 这就是模拟本质\n",
    "\n",
    "class Printer:\n",
    "    def __init__(self,ppm):\n",
    "        self.pageRate = ppm #paper per minute\n",
    "        self.currentTask = None\n",
    "        self.timeRemaining = 0\n",
    "    \n",
    "    def tick(self):\n",
    "        if self.currentTask != None:\n",
    "            self.timeRemaining = self.timeRemaining -1\n",
    "            if self.timeRemaining <=0:\n",
    "                self.currentTask = None\n",
    "    \n",
    "    def busy(self):\n",
    "        if self.currentTask != None:\n",
    "            return True\n",
    "        else:\n",
    "            return False\n",
    "    \n",
    "    def startNext(self,newtask):\n",
    "        self.currentTask = newtask\n",
    "        self.timeRemaining = newtask.getPages() * 60/self.pageRate #time in seconds\n",
    "        "
   ]
  },
  {
   "cell_type": "code",
   "execution_count": 141,
   "metadata": {},
   "outputs": [],
   "source": [
    "import random\n",
    "\n",
    "class Task:\n",
    "    def __init__(self,time):\n",
    "        self.timestamp = time\n",
    "        self.pages = random.randrange(1,21)\n",
    "    \n",
    "    def getStamp(self):\n",
    "        return self.timestamp\n",
    "    \n",
    "    def getPages(self):\n",
    "        return self.pages\n",
    "    \n",
    "    def waitTime(self,currenttime):\n",
    "        return currenttime - self.timestamp\n",
    "\n",
    "def simulation(numSeconds,pagePerMinute):\n",
    "    labprinter = Printer(pagePerMinute)\n",
    "    printQueue = Queue()\n",
    "    waitingtimes = []\n",
    "    \n",
    "    for currentSecond in range(numSeconds):\n",
    "        \n",
    "        if newPrintTask():\n",
    "            task = Task(currentSecond)\n",
    "            printQueue.enqueue(task)\n",
    "        \n",
    "        if (not labprinter.busy()) and (not printQueue.isEmpty()):\n",
    "            nexttask = printQueue.dequeue()\n",
    "            waitingtimes.append(nexttask.waitTime(currentSecond))\n",
    "            labprinter.startNext(nexttask)\n",
    "        \n",
    "        labprinter.tick()\n",
    "\n",
    "    averageWait = sum(waitingtimes)/len(waitingtimes)\n",
    "    print(\"average wait %6.2f seconds %3d tasks remaing.\" %(averageWait,printQueue.size()))\n",
    "\n",
    "def newPrintTask():\n",
    "    num = random.randrange(1,181)\n",
    "    if num == 180:\n",
    "        return True\n",
    "    else:\n",
    "        return False"
   ]
  },
  {
   "cell_type": "code",
   "execution_count": 142,
   "metadata": {},
   "outputs": [
    {
     "name": "stdout",
     "output_type": "stream",
     "text": [
      "average wait  10.75 seconds   0 tasks remaing.\n",
      "average wait  52.32 seconds   0 tasks remaing.\n",
      "average wait  10.17 seconds   0 tasks remaing.\n",
      "average wait  24.47 seconds   0 tasks remaing.\n",
      "average wait   3.46 seconds   0 tasks remaing.\n",
      "average wait   2.62 seconds   0 tasks remaing.\n",
      "average wait  19.88 seconds   0 tasks remaing.\n",
      "average wait  42.92 seconds   0 tasks remaing.\n",
      "average wait  13.24 seconds   0 tasks remaing.\n",
      "average wait  10.38 seconds   0 tasks remaing.\n"
     ]
    }
   ],
   "source": [
    "for i in range(10):\n",
    "    simulation(3600,10)"
   ]
  },
  {
   "cell_type": "code",
   "execution_count": 143,
   "metadata": {},
   "outputs": [
    {
     "name": "stdout",
     "output_type": "stream",
     "text": [
      "average wait 244.88 seconds   0 tasks remaing.\n",
      "average wait 176.36 seconds   1 tasks remaing.\n",
      "average wait  51.84 seconds   1 tasks remaing.\n",
      "average wait  13.44 seconds   0 tasks remaing.\n",
      "average wait  40.65 seconds   0 tasks remaing.\n",
      "average wait 153.79 seconds   0 tasks remaing.\n",
      "average wait  86.86 seconds   0 tasks remaing.\n",
      "average wait  22.85 seconds   2 tasks remaing.\n",
      "average wait  80.72 seconds   0 tasks remaing.\n",
      "average wait 134.04 seconds   0 tasks remaing.\n"
     ]
    }
   ],
   "source": [
    "for i in range(10):\n",
    "    simulation(3600,5)"
   ]
  },
  {
   "cell_type": "code",
   "execution_count": 144,
   "metadata": {},
   "outputs": [],
   "source": [
    "#deque 双端队列 两端都可以添加 两端都可以删除 队首是列表尾 队尾是列表首\n",
    "class Deque:\n",
    "    \n",
    "    def __init__(self):\n",
    "        self.items = []\n",
    "    \n",
    "    def isEmpty(self):\n",
    "        return self.items == []\n",
    "    \n",
    "    def addFront(self,item):\n",
    "        self.items.append(item) #0(1)\n",
    "    \n",
    "    def addRear(self,item):\n",
    "        self.items.insert(0,item) #O(n)\n",
    "    \n",
    "    def removeFront(self):\n",
    "        return self.items.pop() #0(1)\n",
    "    \n",
    "    def removeRear(self):\n",
    "        return self.items.pop(0) #O(n) must use return or first and last will be None\n",
    "    \n",
    "    def size(self):\n",
    "        return len(self.items)\n",
    "\n",
    "\n",
    "    "
   ]
  },
  {
   "cell_type": "code",
   "execution_count": 145,
   "metadata": {},
   "outputs": [
    {
     "name": "stdout",
     "output_type": "stream",
     "text": [
      "False\n",
      "True\n",
      "False\n"
     ]
    }
   ],
   "source": [
    "#使用双端队列解决回文检查问题\n",
    "\n",
    "def palchecker(aString):\n",
    "    chardeque = Deque()\n",
    "\n",
    "    for ch in aString:\n",
    "        chardeque.addFront(ch) #better than addRear if aString is very long\n",
    "    #print(\"the length is\",chardeque.size())\n",
    "    stillEqual = True\n",
    "    \n",
    "    while chardeque.size() > 1 and stillEqual:\n",
    "        first = chardeque.removeFront()\n",
    "        last = chardeque.removeRear()\n",
    "        #print(\"first is \",first)\n",
    "       # print(\"last is \",last)\n",
    "        if first != last:\n",
    "            #print('does not match')\n",
    "            stillEqual = False\n",
    "        \n",
    "    return stillEqual\n",
    "\n",
    "print(palchecker('lsdkjfskf'))\n",
    "print(palchecker('radar'))\n",
    "print(palchecker('love'))"
   ]
  },
  {
   "cell_type": "code",
   "execution_count": 146,
   "metadata": {},
   "outputs": [
    {
     "data": {
      "text/plain": [
       "93"
      ]
     },
     "execution_count": 146,
     "metadata": {},
     "output_type": "execute_result"
    }
   ],
   "source": [
    "#无序列表抽象数据类型的实现\n",
    "#就是C语言里面的链表\n",
    "#链表有一个head和一个end 每个结点必须至少有2个信息 1是数据 2是下一个节点的引用\n",
    "#假定数据不重复\n",
    "class Node:\n",
    "    def __init__(self,initdata):\n",
    "        self.data = initdata\n",
    "        self.next = None\n",
    "    \n",
    "    def getData(self):\n",
    "        return self.data\n",
    "    \n",
    "    def getNext(self):\n",
    "        return self.next\n",
    "    \n",
    "    def setData(self,newdata):\n",
    "        self.data = newdata\n",
    "    \n",
    "    def setNext(self,newnext):\n",
    "        self.next = newnext\n",
    "    \n",
    "temp = Node(93)\n",
    "temp.getData()"
   ]
  },
  {
   "cell_type": "code",
   "execution_count": 147,
   "metadata": {},
   "outputs": [],
   "source": [
    "class UnorderedList: #仅包含对第一个节点的引用 具体内容查看PythonII python-data-structure-cn\n",
    "    \n",
    "    def __init__(self):\n",
    "        self.head = None\n",
    "\n",
    "    def isEmpty(self):\n",
    "        return self.head == None\n",
    "    \n",
    "    def add(self,item):\n",
    "        temp = Node(item)\n",
    "        temp.setNext(self.head) #这行和下一行不可以调换 否则会丢失链表 先建立与现存表头的链接 再自己变为表头\n",
    "        self.head = temp #self.head 此时变为一个Node对象\n",
    "    \n",
    "    def size(self):\n",
    "        current = self.head\n",
    "        count = 0\n",
    "        while current != None:\n",
    "            count = count + 1\n",
    "            print('the data in the current is',current.getData())\n",
    "            current = current.getNext()\n",
    "        return count\n",
    "    \n",
    "    def serach(self,item):\n",
    "        current = self.head\n",
    "        found = False\n",
    "        \n",
    "        while current != None and not found:\n",
    "            if current.getData() == item:\n",
    "                found = True\n",
    "            else:\n",
    "                current = current.getNext()\n",
    "        return found\n",
    "    \n",
    "    def remove(self,item): #remove 比较复杂 涉及是否删除的是表头项或表尾项 需要参考书中的图\n",
    "        #并且需要两个引用 一个指向现在节点current 一个指向前一个节点previous\n",
    "        #假定表格非空\n",
    "        current = self.head\n",
    "        previous = None\n",
    "        found = False\n",
    "        \n",
    "        while not found:\n",
    "            if current.getData() == item:\n",
    "                found = True\n",
    "            else:\n",
    "                previous = current\n",
    "                current = current.getNext() #这两句也是不能颠倒\n",
    "        \n",
    "        if found == False:\n",
    "            print('no such item')\n",
    "            \n",
    "        if previous == None: #也就是表头就是要删的项目 所以previous保持不变\n",
    "            self.head = current.getNext() #直接把head指向下一项即可\n",
    "        else:\n",
    "            previous.setNext(current.getNext()) #如果不是表头 就直接指向要删项的下一个即可\n",
    "\n",
    "            \n",
    "            \n"
   ]
  },
  {
   "cell_type": "code",
   "execution_count": 148,
   "metadata": {},
   "outputs": [],
   "source": [
    "mylb = UnorderedList()\n"
   ]
  },
  {
   "cell_type": "code",
   "execution_count": 149,
   "metadata": {},
   "outputs": [],
   "source": [
    "mylb.add(31)\n",
    "mylb.add(77)\n",
    "mylb.add(17)"
   ]
  },
  {
   "cell_type": "code",
   "execution_count": 150,
   "metadata": {},
   "outputs": [
    {
     "name": "stdout",
     "output_type": "stream",
     "text": [
      "the data in the current is 17\n",
      "the data in the current is 77\n",
      "the data in the current is 31\n"
     ]
    },
    {
     "data": {
      "text/plain": [
       "3"
      ]
     },
     "execution_count": 150,
     "metadata": {},
     "output_type": "execute_result"
    }
   ],
   "source": [
    "mylb.size()"
   ]
  },
  {
   "cell_type": "code",
   "execution_count": 151,
   "metadata": {},
   "outputs": [
    {
     "data": {
      "text/plain": [
       "True"
      ]
     },
     "execution_count": 151,
     "metadata": {},
     "output_type": "execute_result"
    }
   ],
   "source": [
    "mylb.serach(77)"
   ]
  },
  {
   "cell_type": "code",
   "execution_count": 152,
   "metadata": {},
   "outputs": [],
   "source": [
    "mylb.remove(77)"
   ]
  },
  {
   "cell_type": "code",
   "execution_count": 153,
   "metadata": {},
   "outputs": [
    {
     "name": "stdout",
     "output_type": "stream",
     "text": [
      "the data in the current is 17\n",
      "the data in the current is 31\n"
     ]
    },
    {
     "data": {
      "text/plain": [
       "2"
      ]
     },
     "execution_count": 153,
     "metadata": {},
     "output_type": "execute_result"
    }
   ],
   "source": [
    "mylb.size()"
   ]
  },
  {
   "cell_type": "code",
   "execution_count": 154,
   "metadata": {},
   "outputs": [],
   "source": [
    "#上述是无序列表 我们可以实现有序(升序)列表 17-21-32-34-56-78-98\n",
    "#isEmpty和size方法和无序一样 remove也正常工作\n",
    "#search虽然也正常工作 但是我们可以利用有序这一特点尽快完成搜索 \n",
    "#比如17-22-34 你找28 找到34没有找到就可以断定没有28 不需要继续找了\n",
    "#add是需要修改的 因为是有序的 所以就不能无序列表直接放表头了\n",
    "class OrderedList:\n",
    "    def __init__(self):\n",
    "        self.head = None\n",
    "    \n",
    "    def isEmpty(self):\n",
    "        return self.head == None \n",
    "    \n",
    "    def size(self):\n",
    "        current = self.head\n",
    "        count = 0\n",
    "        while current != None:\n",
    "            count = count + 1\n",
    "            print('the data in the current is',current.getData())\n",
    "            current = current.getNext()\n",
    "        return count\n",
    "    \n",
    "    def search(self,item):\n",
    "        current = self.head\n",
    "        found = False\n",
    "        stop = False\n",
    "        \n",
    "        while current != None and not found and not stop:\n",
    "            if current.getData() == item:\n",
    "                found =True\n",
    "            else:\n",
    "                if current.getData() > item:\n",
    "                    stop = True #之前的项没有找到 而现在的项比搜索的值大 就不需要搜索\n",
    "                else:\n",
    "                    current = current.getNext()\n",
    "        return found\n",
    "    \n",
    "    def add(self,item):\n",
    "        current = self.head\n",
    "        previous = None\n",
    "        stop = False\n",
    "        \n",
    "        while current != None and not stop:\n",
    "            if current.getData() > item:\n",
    "                stop = True\n",
    "            else:\n",
    "                previous = current\n",
    "                current = current.getNext() #这两个语句也是不能互调的\n",
    "        \n",
    "        temp = Node(item)\n",
    "        if previous == None: #要添加再表头 因为previous没有移动过\n",
    "            temp.setNext(self.head)\n",
    "            self.head = temp\n",
    "        else:\n",
    "            temp.setNext(current)\n",
    "            previous.setNext(temp)\n",
    "\n"
   ]
  },
  {
   "cell_type": "code",
   "execution_count": 155,
   "metadata": {},
   "outputs": [],
   "source": [
    "myorderlist = OrderedList()"
   ]
  },
  {
   "cell_type": "code",
   "execution_count": 156,
   "metadata": {},
   "outputs": [],
   "source": [
    "myorderlist.add(12)\n",
    "myorderlist.add(26)\n",
    "myorderlist.add(55)\n",
    "myorderlist.add(77)\n",
    "myorderlist.add(89)"
   ]
  },
  {
   "cell_type": "code",
   "execution_count": 157,
   "metadata": {},
   "outputs": [
    {
     "name": "stdout",
     "output_type": "stream",
     "text": [
      "the data in the current is 12\n",
      "the data in the current is 26\n",
      "the data in the current is 55\n",
      "the data in the current is 77\n",
      "the data in the current is 89\n"
     ]
    },
    {
     "data": {
      "text/plain": [
       "5"
      ]
     },
     "execution_count": 157,
     "metadata": {},
     "output_type": "execute_result"
    }
   ],
   "source": [
    "myorderlist.size()"
   ]
  },
  {
   "cell_type": "code",
   "execution_count": 158,
   "metadata": {},
   "outputs": [],
   "source": [
    "myorderlist.add(42)"
   ]
  },
  {
   "cell_type": "code",
   "execution_count": 159,
   "metadata": {},
   "outputs": [
    {
     "name": "stdout",
     "output_type": "stream",
     "text": [
      "the data in the current is 12\n",
      "the data in the current is 26\n",
      "the data in the current is 42\n",
      "the data in the current is 55\n",
      "the data in the current is 77\n",
      "the data in the current is 89\n"
     ]
    },
    {
     "data": {
      "text/plain": [
       "6"
      ]
     },
     "execution_count": 159,
     "metadata": {},
     "output_type": "execute_result"
    }
   ],
   "source": [
    "myorderlist.size()"
   ]
  },
  {
   "cell_type": "code",
   "execution_count": 160,
   "metadata": {},
   "outputs": [
    {
     "name": "stdout",
     "output_type": "stream",
     "text": [
      "25\n"
     ]
    }
   ],
   "source": [
    "#递归\n",
    "def listsum(numlist):\n",
    "    thesum = 0\n",
    "    for i in numlist:\n",
    "        thesum = thesum + i\n",
    "    return thesum\n",
    "\n",
    "print(listsum([1,3,5,7,9]))"
   ]
  },
  {
   "cell_type": "code",
   "execution_count": 161,
   "metadata": {},
   "outputs": [
    {
     "name": "stdout",
     "output_type": "stream",
     "text": [
      "25\n"
     ]
    }
   ],
   "source": [
    "#上面是非递归方式 用递归方式如下\n",
    "#这里肯定是非递归直观简单 这样做的目的是为了阐释递归的概念\n",
    "def listsum1(numlist):\n",
    "    if len(numlist) ==1:\n",
    "        return numlist[0]\n",
    "    else:\n",
    "        return numlist[0] + listsum1(numlist[1:])  #对函数自身的调用！\n",
    "\n",
    "print(listsum1([1,3,5,7,9]))"
   ]
  },
  {
   "cell_type": "code",
   "execution_count": 163,
   "metadata": {},
   "outputs": [
    {
     "name": "stdout",
     "output_type": "stream",
     "text": [
      "5AD\n"
     ]
    }
   ],
   "source": [
    "#十进制整数转换为任意进制字符串\n",
    "#利用余数法则可以得到 base是基数 详见pythonII的说明\n",
    "\n",
    "def toStr(n,base):\n",
    "    convertString = '0123456789ABCDEF' #16进制 二进制就是01 10进制就0123456789\n",
    "    if n < base:\n",
    "        return convertString[n] #基数可以表示的 就直接表示 比如10进制你输入6 直接就表为6\n",
    "    else:\n",
    "        return toStr(n//base,base) + convertString[n%base] \n",
    "        #左边是地板除舍其余数 右边是取其余数 同时也是递归调用\n",
    "\n",
    "print(toStr(1453,16))"
   ]
  },
  {
   "cell_type": "code",
   "execution_count": 166,
   "metadata": {},
   "outputs": [
    {
     "name": "stdout",
     "output_type": "stream",
     "text": [
      "5AD\n"
     ]
    }
   ],
   "source": [
    "#利用栈的后进先出也可以实现转换\n",
    "\n",
    "rStack = Stack()\n",
    "\n",
    "def toStrbyStack(n,base):\n",
    "    convertString = '0123456789ABCDEF' #16进制\n",
    "    \n",
    "    while n > 0:\n",
    "        if n < base:\n",
    "            rStack.push(convertString[n])\n",
    "        else:\n",
    "            rStack.push(convertString[n%base]) #取其余数\n",
    "        n = n // base #地板除\n",
    "    \n",
    "    res = ''\n",
    "    \n",
    "    while not rStack.isEmpty():\n",
    "        res = res + str(rStack.pop()) #str() is necessity\n",
    "    \n",
    "    return res\n",
    "\n",
    "print(toStrbyStack(1453,16))\n",
    "            "
   ]
  },
  {
   "cell_type": "code",
   "execution_count": 167,
   "metadata": {},
   "outputs": [
    {
     "name": "stdout",
     "output_type": "stream",
     "text": [
      "True\n",
      "False\n"
     ]
    }
   ],
   "source": [
    "#顺序查找\n",
    "def sequentialSearch(alist,item):\n",
    "    pos = 0\n",
    "    found = False\n",
    "    \n",
    "    while pos < len(alist) and not found:\n",
    "        if alist[pos] == item:\n",
    "            found = True\n",
    "        else:\n",
    "            pos = pos + 1\n",
    "    \n",
    "    return found\n",
    "\n",
    "testlist = [1,2,3,56,24,26,33,35,89,64]\n",
    "print(sequentialSearch(testlist,3))\n",
    "print(sequentialSearch(testlist,73))"
   ]
  },
  {
   "cell_type": "code",
   "execution_count": 168,
   "metadata": {},
   "outputs": [
    {
     "name": "stdout",
     "output_type": "stream",
     "text": [
      "True\n",
      "False\n"
     ]
    }
   ],
   "source": [
    "#有序列表的顺序查找 可以利用有序加快搜寻\n",
    "def orderedSequentialSearch(alist,item):\n",
    "    pos = 0\n",
    "    found = False\n",
    "    stop = False\n",
    "    \n",
    "    while pos < len(alist) and not found and not stop:\n",
    "        if alist[pos] == item:\n",
    "            found = True\n",
    "        else:\n",
    "            if alist[pos] > item:\n",
    "                stop = True\n",
    "            else:\n",
    "                pos = pos + 1\n",
    "    return found\n",
    "\n",
    "testlist = [1,3,4,5,6,7,8,26,33,65,76,99]\n",
    "print(orderedSequentialSearch(testlist,3))\n",
    "print(orderedSequentialSearch(testlist,89))\n"
   ]
  },
  {
   "cell_type": "code",
   "execution_count": 2,
   "metadata": {},
   "outputs": [
    {
     "name": "stdout",
     "output_type": "stream",
     "text": [
      "True\n",
      "False\n"
     ]
    }
   ],
   "source": [
    "#二分查找\n",
    "def binarySearch(alist,item):\n",
    "    first = 0\n",
    "    last = len(alist)\n",
    "    found = False\n",
    "    \n",
    "    while first <=last and not found:\n",
    "        midpoint = (first+last)//2 #地板除 不要小数点后面\n",
    "        if alist[midpoint] == item:\n",
    "            found = True\n",
    "        else:\n",
    "            if item < alist[midpoint]:\n",
    "                last = midpoint - 1\n",
    "            else:\n",
    "                first = midpoint + 1\n",
    "        \n",
    "    return found\n",
    "\n",
    "testlist = [1,3,4,5,6,7,8,26,33,65,76,99]\n",
    "print(binarySearch(testlist,3))\n",
    "print(binarySearch(testlist,89))\n",
    "        "
   ]
  },
  {
   "cell_type": "code",
   "execution_count": 3,
   "metadata": {},
   "outputs": [
    {
     "name": "stdout",
     "output_type": "stream",
     "text": [
      "True\n",
      "False\n"
     ]
    }
   ],
   "source": [
    "#二分查找本质就是分而治之策略的体现 隐含了递归的思想 O(logN)\n",
    "def binarySearchRecursion(alist,item):\n",
    "    if len(alist) == 0:\n",
    "        return False\n",
    "    else:\n",
    "        midpoint = len(alist)//2 #地板除 舍弃小数点后的结果\n",
    "        if alist[midpoint] == item:\n",
    "            return True\n",
    "        else:\n",
    "            if item < alist[midpoint]:\n",
    "                return binarySearchRecursion(alist[:midpoint],item)#这里特别注意列表的切片不包括右边界\n",
    "                #所以这里midpoint实际上只到alist[midpoint-1]\n",
    "            else:\n",
    "                return binarySearchRecursion(alist[midpoint+1:],item)\n",
    "\n",
    "testlist = [1,3,4,5,6,7,8,26,33,65,76,99]\n",
    "print(binarySearchRecursion(testlist,3))\n",
    "print(binarySearchRecursion(testlist,89))"
   ]
  },
  {
   "cell_type": "code",
   "execution_count": 4,
   "metadata": {},
   "outputs": [
    {
     "name": "stdout",
     "output_type": "stream",
     "text": [
      "[0, 1, 2, 4, 5, 6, 7, 67, 99, 243, 928]\n"
     ]
    }
   ],
   "source": [
    "#对于大型列表 一次排序的代价可能非常高昂 从一开始就执行顺序查找可能是最好的选择\n",
    "#Hash查找 但是散列函数不是很好建立\n",
    "#排序法\n",
    "#冒泡排序\n",
    "def bubbleSort(alist):\n",
    "    for passnum in range(len(alist)-1,0,-1): #len(alist) -1 是最后一个元素的index\n",
    "        for i in range(passnum):#range(passnum) is from 0 to passnum -1\n",
    "            if alist[i] > alist[i+1]: #i+1 can reach to passnum\n",
    "                temp = alist[i]\n",
    "                alist[i] = alist[i+1]\n",
    "                alist[i+1] = temp \n",
    "testbubble = [2,5,67,99,4,6,243,7,928,1,0]\n",
    "bubbleSort(testbubble)\n",
    "print(testbubble)"
   ]
  },
  {
   "cell_type": "code",
   "execution_count": 5,
   "metadata": {},
   "outputs": [
    {
     "name": "stdout",
     "output_type": "stream",
     "text": [
      "[0, 1, 2, 4, 5, 6, 7, 67, 99, 243, 928]\n"
     ]
    }
   ],
   "source": [
    "#短冒泡排序 修正版\n",
    "#提前中止如果发现遍历期间没有交换\n",
    "def shortBubbleSort(alist):\n",
    "    exchanges = True\n",
    "    passnum = len(alist) - 1\n",
    "    \n",
    "    while passnum > 0 and exchanges:\n",
    "        exchanges = False\n",
    "        for i in range(passnum):\n",
    "            if alist[i] > alist[i+1]: #i+1 can reach to passnum\n",
    "                exchanges = True\n",
    "                temp = alist[i]\n",
    "                alist[i] = alist[i+1]\n",
    "                alist[i+1] = temp \n",
    "        passnum = passnum - 1\n",
    "\n",
    "testbubble = [2,5,67,99,4,6,243,7,928,1,0]\n",
    "shortBubbleSort(testbubble)\n",
    "print(testbubble)"
   ]
  },
  {
   "cell_type": "code",
   "execution_count": 7,
   "metadata": {},
   "outputs": [
    {
     "name": "stdout",
     "output_type": "stream",
     "text": [
      "[0, 1, 2, 4, 5, 6, 7, 67, 99, 243, 928]\n"
     ]
    }
   ],
   "source": [
    "#选择排序 通常比冒泡更快一点\n",
    "def selectSort(alist):\n",
    "    for fillslot in range(len(alist)-1,0,-1):\n",
    "        positionOfMax = 0\n",
    "        for location in range(1,fillslot+1): #这里从1-fillslot就够了 因为0已经在postionOfMax里面\n",
    "            if alist[location] > alist[positionOfMax]: #第一次比较肯定是和alist[0]比\n",
    "                positionOfMax = location\n",
    "            \n",
    "        temp = alist[fillslot]\n",
    "        alist[fillslot] = alist[positionOfMax]\n",
    "        alist[positionOfMax] = temp\n",
    "            \n",
    "testbubble = [2,5,67,99,4,6,243,7,928,1,0]\n",
    "selectSort(testbubble)\n",
    "print(testbubble)            "
   ]
  },
  {
   "cell_type": "code",
   "execution_count": 9,
   "metadata": {},
   "outputs": [
    {
     "name": "stdout",
     "output_type": "stream",
     "text": [
      "splitting [54, 26, 39, 77, 17, 31, 44, 65, 67, 53, 20, 88]\n",
      "splitting [54, 26, 39, 77, 17, 31]\n",
      "splitting [54, 26, 39]\n",
      "splitting [54]\n",
      "splitting [26, 39]\n",
      "splitting [26]\n",
      "splitting [39]\n",
      "merging [26, 39]\n",
      "merging [26, 39, 54]\n",
      "splitting [77, 17, 31]\n",
      "splitting [77]\n",
      "splitting [17, 31]\n",
      "splitting [17]\n",
      "splitting [31]\n",
      "merging [17, 31]\n",
      "merging [17, 31, 77]\n",
      "merging [17, 26, 31, 39, 54, 77]\n",
      "splitting [44, 65, 67, 53, 20, 88]\n",
      "splitting [44, 65, 67]\n",
      "splitting [44]\n",
      "splitting [65, 67]\n",
      "splitting [65]\n",
      "splitting [67]\n",
      "merging [65, 67]\n",
      "merging [44, 65, 67]\n",
      "splitting [53, 20, 88]\n",
      "splitting [53]\n",
      "splitting [20, 88]\n",
      "splitting [20]\n",
      "splitting [88]\n",
      "merging [20, 88]\n",
      "merging [20, 53, 88]\n",
      "merging [20, 44, 53, 65, 67, 88]\n",
      "merging [17, 20, 26, 31, 39, 44, 53, 54, 65, 67, 77, 88]\n",
      "[17, 20, 26, 31, 39, 44, 53, 54, 65, 67, 77, 88]\n"
     ]
    }
   ],
   "source": [
    "#归并排序 排序算法的递归应用 #假定没有重复\n",
    "def mergeSort(alist):\n",
    "    print('splitting',alist)\n",
    "    if len(alist) > 1:\n",
    "        mid = len(alist)//2\n",
    "        lefthalf = alist[:mid]\n",
    "        righthalf = alist[mid:]\n",
    "        \n",
    "        mergeSort(lefthalf)\n",
    "        mergeSort(righthalf) #把序列散成一个个\n",
    "        \n",
    "        i=0\n",
    "        j=0\n",
    "        k=0\n",
    "        \n",
    "        while i < len(lefthalf) and j < len(righthalf): #比较大小 选出小的填充新的序列 从小到大\n",
    "            if lefthalf[i] < righthalf[j]:\n",
    "                alist[k] = lefthalf[i] #如果lefthalf[i]小 就存为队列的第一个元素\n",
    "                i=i+1 #第二个lefthalf[i+1]元素和righthalf[i]继续比较\n",
    "            else: #righthalf元素大\n",
    "                alist[k] = righthalf[j]\n",
    "                j=j+1\n",
    "            k=k+1 #alist[k]已经有了 进一格\n",
    "        \n",
    "        while i < len(lefthalf):#如果上面填充完后 left元素还有剩 说明right整体比较小都填完了\n",
    "            alist[k]=lefthalf[i] #因为lefthalf已经拍过序 直接填充余下的元素就好\n",
    "            i=i+1\n",
    "            k=k+1\n",
    "        \n",
    "        while j < len(righthalf):#right元素有剩 说明left整体比较小\n",
    "            alist[k]=righthalf[j]\n",
    "            j=j+1\n",
    "            k=k+1\n",
    "        print('merging',alist)\n",
    "    \n",
    "mergetest = [54,26,39,77,17,31,44,65,67,53,20,88]\n",
    "mergeSort(mergetest)\n",
    "print(mergetest)"
   ]
  },
  {
   "cell_type": "code",
   "execution_count": null,
   "metadata": {},
   "outputs": [],
   "source": [
    "#快速排序和归并差不多\n",
    "#树和二叉树以及图等了解概念即可 需要时候再来学\n"
   ]
  }
 ],
 "metadata": {
  "kernelspec": {
   "display_name": "Python 3",
   "language": "python",
   "name": "python3"
  },
  "language_info": {
   "codemirror_mode": {
    "name": "ipython",
    "version": 3
   },
   "file_extension": ".py",
   "mimetype": "text/x-python",
   "name": "python",
   "nbconvert_exporter": "python",
   "pygments_lexer": "ipython3",
   "version": "3.7.3"
  }
 },
 "nbformat": 4,
 "nbformat_minor": 2
}
