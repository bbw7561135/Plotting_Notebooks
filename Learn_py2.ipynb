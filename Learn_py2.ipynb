{
 "cells": [
  {
   "cell_type": "code",
   "execution_count": 2,
   "metadata": {},
   "outputs": [
    {
     "name": "stdout",
     "output_type": "stream",
     "text": [
      "py3 for amao and jan\n"
     ]
    }
   ],
   "source": [
    "print(\"py3 for amao and jan\")"
   ]
  },
  {
   "cell_type": "code",
   "execution_count": 2,
   "metadata": {},
   "outputs": [
    {
     "name": "stdout",
     "output_type": "stream",
     "text": [
      "input your name: amao\n"
     ]
    }
   ],
   "source": [
    "name1 = raw_input('input your name: ')\n"
   ]
  },
  {
   "cell_type": "code",
   "execution_count": 3,
   "metadata": {
    "scrolled": true
   },
   "outputs": [
    {
     "name": "stdout",
     "output_type": "stream",
     "text": [
      "amao\n"
     ]
    }
   ],
   "source": [
    "print name1"
   ]
  },
  {
   "cell_type": "code",
   "execution_count": 1,
   "metadata": {},
   "outputs": [],
   "source": [
    "def bubble_sort(list):\n",
    "    length=len(list)\n",
    "    for index in range(length):\n",
    "        for j in range(1,length-index):\n",
    "            if list[j-1] > list[j]:\n",
    "                list[j-1],list[j]=list[j],list[j-1]\n",
    "    return list"
   ]
  },
  {
   "cell_type": "code",
   "execution_count": 2,
   "metadata": {},
   "outputs": [
    {
     "name": "stdout",
     "output_type": "stream",
     "text": [
      "[1, 2, 4, 6, 7, 8, 9, 29, 32, 45]\n"
     ]
    }
   ],
   "source": [
    "a=[6,4,7,8,9,1,2,32,45,29]\n",
    "b=bubble_sort(a)\n",
    "print b"
   ]
  },
  {
   "cell_type": "code",
   "execution_count": 10,
   "metadata": {},
   "outputs": [],
   "source": [
    "def bubble_sort_flag(list):\n",
    "    length=len(list)\n",
    "    for index in range(length):\n",
    "        flag = True\n",
    "        for j in range(1,length-index):\n",
    "            if list[j-1] > list[j]:\n",
    "                list[j-1],list[j]=list[j],list[j-1]\n",
    "                flag = False\n",
    "        if flag:\n",
    "                return list\n",
    "    return list"
   ]
  },
  {
   "cell_type": "code",
   "execution_count": 11,
   "metadata": {},
   "outputs": [
    {
     "name": "stdout",
     "output_type": "stream",
     "text": [
      "True\n",
      "[2, 3, 7, 8, 12, 26, 29, 34, 56, 89]\n"
     ]
    }
   ],
   "source": [
    "c=[3,34,2,56,7,8,29,12,26,89]\n",
    "d=bubble_sort_flag(c)\n",
    "print d"
   ]
  },
  {
   "cell_type": "code",
   "execution_count": 12,
   "metadata": {},
   "outputs": [],
   "source": [
    "def selection_sort(list):\n",
    "    n = len(list)\n",
    "    for i in range(0,n):\n",
    "        for j in range(i+1,n):\n",
    "            if list[j] < list[i]:\n",
    "                list[j],list[i] = list[i], list[j]\n",
    "    return list"
   ]
  },
  {
   "cell_type": "code",
   "execution_count": 13,
   "metadata": {},
   "outputs": [
    {
     "name": "stdout",
     "output_type": "stream",
     "text": [
      "[2, 3, 7, 8, 12, 26, 29, 34, 56, 89]\n"
     ]
    }
   ],
   "source": [
    "e=[3,34,2,56,7,8,29,12,26,89]\n",
    "f=selection_sort(e)\n",
    "print f"
   ]
  },
  {
   "cell_type": "code",
   "execution_count": null,
   "metadata": {},
   "outputs": [],
   "source": []
  }
 ],
 "metadata": {
  "kernelspec": {
   "display_name": "Python 2",
   "language": "python",
   "name": "python2"
  },
  "language_info": {
   "codemirror_mode": {
    "name": "ipython",
    "version": 2
   },
   "file_extension": ".py",
   "mimetype": "text/x-python",
   "name": "python",
   "nbconvert_exporter": "python",
   "pygments_lexer": "ipython2",
   "version": "2.7.15"
  }
 },
 "nbformat": 4,
 "nbformat_minor": 2
}
