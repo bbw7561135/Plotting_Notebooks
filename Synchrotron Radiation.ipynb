{
 "cells": [
  {
   "cell_type": "code",
   "execution_count": 10,
   "metadata": {},
   "outputs": [],
   "source": [
    "import numpy as np\n",
    "from astropy import units as u\n",
    "from astropy.constants import alpha, c, e, hbar, m_e, m_p, sigma_sb\n",
    "from scipy.special import cbrt"
   ]
  },
  {
   "cell_type": "code",
   "execution_count": 11,
   "metadata": {},
   "outputs": [],
   "source": [
    "e = e.gauss\n",
    "mec2 = (m_e * c ** 2).cgs"
   ]
  },
  {
   "cell_type": "code",
   "execution_count": 12,
   "metadata": {},
   "outputs": [
    {
     "name": "stdout",
     "output_type": "stream",
     "text": [
      "  Name   = Electron charge\n",
      "  Value  = 4.80320467299766e-10\n",
      "  Uncertainty  = 2.9379660884000004e-18\n",
      "  Unit  = Fr\n",
      "  Reference = CODATA 2014\n"
     ]
    }
   ],
   "source": [
    "print(e)"
   ]
  },
  {
   "cell_type": "code",
   "execution_count": 13,
   "metadata": {},
   "outputs": [
    {
     "name": "stdout",
     "output_type": "stream",
     "text": [
      "8.187105649650028e-07 erg\n"
     ]
    }
   ],
   "source": [
    "print(mec2)"
   ]
  },
  {
   "cell_type": "code",
   "execution_count": 14,
   "metadata": {},
   "outputs": [],
   "source": [
    "Eemin = 1 * u.GeV\n",
    "Eemax = 1e9 * mec2"
   ]
  },
  {
   "cell_type": "code",
   "execution_count": 15,
   "metadata": {},
   "outputs": [
    {
     "name": "stdout",
     "output_type": "stream",
     "text": [
      "1.0 GeV\n"
     ]
    }
   ],
   "source": [
    "print(Eemin)"
   ]
  },
  {
   "cell_type": "code",
   "execution_count": 16,
   "metadata": {},
   "outputs": [
    {
     "name": "stdout",
     "output_type": "stream",
     "text": [
      "818.7105649650028 erg\n"
     ]
    }
   ],
   "source": [
    "print(Eemax)"
   ]
  },
  {
   "cell_type": "code",
   "execution_count": 17,
   "metadata": {},
   "outputs": [
    {
     "name": "stdout",
     "output_type": "stream",
     "text": [
      "3.24e-06 G\n"
     ]
    }
   ],
   "source": [
    "nEed = 100\n",
    "B=3.24e-6 * u.G\n",
    "print(B)"
   ]
  },
  {
   "cell_type": "code",
   "execution_count": 18,
   "metadata": {},
   "outputs": [],
   "source": [
    "def Gtilde(x):\n",
    "    \"\"\"\n",
    "    AKP10 Eq. D7\n",
    "\n",
    "    Factor ~2 performance gain in using cbrt(x)**n vs x**(n/3.)\n",
    "    invoking crbt only once reduced time by ~40%\n",
    "    \"\"\"\n",
    "    cb = cbrt(x)\n",
    "    gt1 = 1.808 * cb / np.sqrt(1 + 3.4 * cb ** 2.0)\n",
    "    gt2 = 1 + 2.210 * cb ** 2.0 + 0.347 * cb ** 4.0\n",
    "    gt3 = 1 + 1.353 * cb ** 2.0 + 0.217 * cb ** 4.0\n",
    "    return gt1 * (gt2 / gt3) * np.exp(-x)\n"
   ]
  },
  {
   "cell_type": "code",
   "execution_count": null,
   "metadata": {},
   "outputs": [],
   "source": []
  }
 ],
 "metadata": {
  "kernelspec": {
   "display_name": "Python 3",
   "language": "python",
   "name": "python3"
  },
  "language_info": {
   "codemirror_mode": {
    "name": "ipython",
    "version": 3
   },
   "file_extension": ".py",
   "mimetype": "text/x-python",
   "name": "python",
   "nbconvert_exporter": "python",
   "pygments_lexer": "ipython3",
   "version": "3.7.4"
  }
 },
 "nbformat": 4,
 "nbformat_minor": 2
}
